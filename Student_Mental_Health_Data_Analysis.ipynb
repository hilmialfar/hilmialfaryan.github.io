{
  "nbformat": 4,
  "nbformat_minor": 0,
  "metadata": {
    "colab": {
      "provenance": [],
      "toc_visible": true,
      "include_colab_link": true
    },
    "kernelspec": {
      "name": "python3",
      "display_name": "Python 3"
    },
    "language_info": {
      "name": "python"
    }
  },
  "cells": [
    {
      "cell_type": "markdown",
      "metadata": {
        "id": "view-in-github",
        "colab_type": "text"
      },
      "source": [
        "<a href=\"https://colab.research.google.com/github/hilmialfar/hilmialfaryan.github.io/blob/main/Student_Mental_Health_Data_Analysis.ipynb\" target=\"_parent\"><img src=\"https://colab.research.google.com/assets/colab-badge.svg\" alt=\"Open In Colab\"/></a>"
      ]
    },
    {
      "cell_type": "markdown",
      "source": [
        "# **Student Mental Health Issues**\n",
        "\n",
        "**A STATISTICAL RESEARCH ON THE EFFECTS OF MENTAL HEALTH ON STUDENTS’ CGPA DATASET**\n",
        "\n",
        "Dataset from [Kaggle](https://www.kaggle.com/datasets/shariful07/student-mental-health)\n",
        "\n",
        "> This dataset was collected by a survey conducted by **google forms from university student on July 8 to 18, 2020** in order to examine their **current academic situation and mental health**."
      ],
      "metadata": {
        "id": "15CRSbav-qEW"
      }
    },
    {
      "cell_type": "markdown",
      "source": [
        "##**Import Libraries & Load Data**"
      ],
      "metadata": {
        "id": "nWhvZKvW-jr3"
      }
    },
    {
      "cell_type": "code",
      "source": [
        "#import library\n",
        "import pandas as pd \n",
        "import numpy as np \n",
        "import matplotlib.pyplot as plt \n",
        "import seaborn as sns "
      ],
      "metadata": {
        "id": "EMaTyjfTAxbS"
      },
      "execution_count": 40,
      "outputs": []
    },
    {
      "cell_type": "code",
      "execution_count": 41,
      "metadata": {
        "id": "-shyhPW-AVVh",
        "colab": {
          "base_uri": "https://localhost:8080/"
        },
        "outputId": "c4a4bd02-848b-420f-ca7c-c93ecc1512f4"
      },
      "outputs": [
        {
          "output_type": "stream",
          "name": "stdout",
          "text": [
            "Drive already mounted at /content/drive; to attempt to forcibly remount, call drive.mount(\"/content/drive\", force_remount=True).\n"
          ]
        }
      ],
      "source": [
        "from google.colab import drive\n",
        "drive.mount('/content/drive')"
      ]
    },
    {
      "cell_type": "code",
      "source": [
        "#import dataset\n",
        "df = pd.read_csv(\"/content/drive/MyDrive/module_&_data/Data/Student Mental health.csv\", encoding='unicode_escape') \n",
        "df.head(10)"
      ],
      "metadata": {
        "id": "_oBxIjonA078",
        "colab": {
          "base_uri": "https://localhost:8080/",
          "height": 650
        },
        "outputId": "cfd2e326-b710-47d1-c5c4-4836bd79ee2f"
      },
      "execution_count": 42,
      "outputs": [
        {
          "output_type": "execute_result",
          "data": {
            "text/plain": [
              "        Timestamp Choose your gender   Age What is your course?  \\\n",
              "0  8/7/2020 12:02             Female  18.0          Engineering   \n",
              "1  8/7/2020 12:04               Male  21.0    Islamic education   \n",
              "2  8/7/2020 12:05               Male  19.0                  BIT   \n",
              "3  8/7/2020 12:06             Female  22.0                 Laws   \n",
              "4  8/7/2020 12:13               Male  23.0         Mathemathics   \n",
              "5  8/7/2020 12:31               Male  19.0          Engineering   \n",
              "6  8/7/2020 12:32             Female  23.0     Pendidikan islam   \n",
              "7  8/7/2020 12:33             Female  18.0                  BCS   \n",
              "8  8/7/2020 12:35             Female  19.0      Human Resources   \n",
              "9  8/7/2020 12:39               Male  18.0                Irkhs   \n",
              "\n",
              "  Your current year of Study What is your CGPA? Marital status  \\\n",
              "0                     year 1        3.00 - 3.49             No   \n",
              "1                     year 2        3.00 - 3.49             No   \n",
              "2                     Year 1        3.00 - 3.49             No   \n",
              "3                     year 3        3.00 - 3.49            Yes   \n",
              "4                     year 4        3.00 - 3.49             No   \n",
              "5                     Year 2        3.50 - 4.00             No   \n",
              "6                     year 2       3.50 - 4.00             Yes   \n",
              "7                     year 1        3.50 - 4.00             No   \n",
              "8                     Year 2        2.50 - 2.99             No   \n",
              "9                     year 1        3.50 - 4.00             No   \n",
              "\n",
              "  Do you have Depression? Do you have Anxiety? Do you have Panic attack?  \\\n",
              "0                     Yes                   No                       Yes   \n",
              "1                      No                  Yes                        No   \n",
              "2                     Yes                  Yes                       Yes   \n",
              "3                     Yes                   No                        No   \n",
              "4                      No                   No                        No   \n",
              "5                      No                   No                       Yes   \n",
              "6                     Yes                   No                       Yes   \n",
              "7                      No                  Yes                        No   \n",
              "8                      No                   No                        No   \n",
              "9                      No                  Yes                       Yes   \n",
              "\n",
              "  Did you seek any specialist for a treatment?  \n",
              "0                                           No  \n",
              "1                                           No  \n",
              "2                                           No  \n",
              "3                                           No  \n",
              "4                                           No  \n",
              "5                                           No  \n",
              "6                                           No  \n",
              "7                                           No  \n",
              "8                                           No  \n",
              "9                                           No  "
            ],
            "text/html": [
              "\n",
              "  <div id=\"df-26b02b41-e383-4bdc-a0e7-79bd4764bd85\">\n",
              "    <div class=\"colab-df-container\">\n",
              "      <div>\n",
              "<style scoped>\n",
              "    .dataframe tbody tr th:only-of-type {\n",
              "        vertical-align: middle;\n",
              "    }\n",
              "\n",
              "    .dataframe tbody tr th {\n",
              "        vertical-align: top;\n",
              "    }\n",
              "\n",
              "    .dataframe thead th {\n",
              "        text-align: right;\n",
              "    }\n",
              "</style>\n",
              "<table border=\"1\" class=\"dataframe\">\n",
              "  <thead>\n",
              "    <tr style=\"text-align: right;\">\n",
              "      <th></th>\n",
              "      <th>Timestamp</th>\n",
              "      <th>Choose your gender</th>\n",
              "      <th>Age</th>\n",
              "      <th>What is your course?</th>\n",
              "      <th>Your current year of Study</th>\n",
              "      <th>What is your CGPA?</th>\n",
              "      <th>Marital status</th>\n",
              "      <th>Do you have Depression?</th>\n",
              "      <th>Do you have Anxiety?</th>\n",
              "      <th>Do you have Panic attack?</th>\n",
              "      <th>Did you seek any specialist for a treatment?</th>\n",
              "    </tr>\n",
              "  </thead>\n",
              "  <tbody>\n",
              "    <tr>\n",
              "      <th>0</th>\n",
              "      <td>8/7/2020 12:02</td>\n",
              "      <td>Female</td>\n",
              "      <td>18.0</td>\n",
              "      <td>Engineering</td>\n",
              "      <td>year 1</td>\n",
              "      <td>3.00 - 3.49</td>\n",
              "      <td>No</td>\n",
              "      <td>Yes</td>\n",
              "      <td>No</td>\n",
              "      <td>Yes</td>\n",
              "      <td>No</td>\n",
              "    </tr>\n",
              "    <tr>\n",
              "      <th>1</th>\n",
              "      <td>8/7/2020 12:04</td>\n",
              "      <td>Male</td>\n",
              "      <td>21.0</td>\n",
              "      <td>Islamic education</td>\n",
              "      <td>year 2</td>\n",
              "      <td>3.00 - 3.49</td>\n",
              "      <td>No</td>\n",
              "      <td>No</td>\n",
              "      <td>Yes</td>\n",
              "      <td>No</td>\n",
              "      <td>No</td>\n",
              "    </tr>\n",
              "    <tr>\n",
              "      <th>2</th>\n",
              "      <td>8/7/2020 12:05</td>\n",
              "      <td>Male</td>\n",
              "      <td>19.0</td>\n",
              "      <td>BIT</td>\n",
              "      <td>Year 1</td>\n",
              "      <td>3.00 - 3.49</td>\n",
              "      <td>No</td>\n",
              "      <td>Yes</td>\n",
              "      <td>Yes</td>\n",
              "      <td>Yes</td>\n",
              "      <td>No</td>\n",
              "    </tr>\n",
              "    <tr>\n",
              "      <th>3</th>\n",
              "      <td>8/7/2020 12:06</td>\n",
              "      <td>Female</td>\n",
              "      <td>22.0</td>\n",
              "      <td>Laws</td>\n",
              "      <td>year 3</td>\n",
              "      <td>3.00 - 3.49</td>\n",
              "      <td>Yes</td>\n",
              "      <td>Yes</td>\n",
              "      <td>No</td>\n",
              "      <td>No</td>\n",
              "      <td>No</td>\n",
              "    </tr>\n",
              "    <tr>\n",
              "      <th>4</th>\n",
              "      <td>8/7/2020 12:13</td>\n",
              "      <td>Male</td>\n",
              "      <td>23.0</td>\n",
              "      <td>Mathemathics</td>\n",
              "      <td>year 4</td>\n",
              "      <td>3.00 - 3.49</td>\n",
              "      <td>No</td>\n",
              "      <td>No</td>\n",
              "      <td>No</td>\n",
              "      <td>No</td>\n",
              "      <td>No</td>\n",
              "    </tr>\n",
              "    <tr>\n",
              "      <th>5</th>\n",
              "      <td>8/7/2020 12:31</td>\n",
              "      <td>Male</td>\n",
              "      <td>19.0</td>\n",
              "      <td>Engineering</td>\n",
              "      <td>Year 2</td>\n",
              "      <td>3.50 - 4.00</td>\n",
              "      <td>No</td>\n",
              "      <td>No</td>\n",
              "      <td>No</td>\n",
              "      <td>Yes</td>\n",
              "      <td>No</td>\n",
              "    </tr>\n",
              "    <tr>\n",
              "      <th>6</th>\n",
              "      <td>8/7/2020 12:32</td>\n",
              "      <td>Female</td>\n",
              "      <td>23.0</td>\n",
              "      <td>Pendidikan islam</td>\n",
              "      <td>year 2</td>\n",
              "      <td>3.50 - 4.00</td>\n",
              "      <td>Yes</td>\n",
              "      <td>Yes</td>\n",
              "      <td>No</td>\n",
              "      <td>Yes</td>\n",
              "      <td>No</td>\n",
              "    </tr>\n",
              "    <tr>\n",
              "      <th>7</th>\n",
              "      <td>8/7/2020 12:33</td>\n",
              "      <td>Female</td>\n",
              "      <td>18.0</td>\n",
              "      <td>BCS</td>\n",
              "      <td>year 1</td>\n",
              "      <td>3.50 - 4.00</td>\n",
              "      <td>No</td>\n",
              "      <td>No</td>\n",
              "      <td>Yes</td>\n",
              "      <td>No</td>\n",
              "      <td>No</td>\n",
              "    </tr>\n",
              "    <tr>\n",
              "      <th>8</th>\n",
              "      <td>8/7/2020 12:35</td>\n",
              "      <td>Female</td>\n",
              "      <td>19.0</td>\n",
              "      <td>Human Resources</td>\n",
              "      <td>Year 2</td>\n",
              "      <td>2.50 - 2.99</td>\n",
              "      <td>No</td>\n",
              "      <td>No</td>\n",
              "      <td>No</td>\n",
              "      <td>No</td>\n",
              "      <td>No</td>\n",
              "    </tr>\n",
              "    <tr>\n",
              "      <th>9</th>\n",
              "      <td>8/7/2020 12:39</td>\n",
              "      <td>Male</td>\n",
              "      <td>18.0</td>\n",
              "      <td>Irkhs</td>\n",
              "      <td>year 1</td>\n",
              "      <td>3.50 - 4.00</td>\n",
              "      <td>No</td>\n",
              "      <td>No</td>\n",
              "      <td>Yes</td>\n",
              "      <td>Yes</td>\n",
              "      <td>No</td>\n",
              "    </tr>\n",
              "  </tbody>\n",
              "</table>\n",
              "</div>\n",
              "      <button class=\"colab-df-convert\" onclick=\"convertToInteractive('df-26b02b41-e383-4bdc-a0e7-79bd4764bd85')\"\n",
              "              title=\"Convert this dataframe to an interactive table.\"\n",
              "              style=\"display:none;\">\n",
              "        \n",
              "  <svg xmlns=\"http://www.w3.org/2000/svg\" height=\"24px\"viewBox=\"0 0 24 24\"\n",
              "       width=\"24px\">\n",
              "    <path d=\"M0 0h24v24H0V0z\" fill=\"none\"/>\n",
              "    <path d=\"M18.56 5.44l.94 2.06.94-2.06 2.06-.94-2.06-.94-.94-2.06-.94 2.06-2.06.94zm-11 1L8.5 8.5l.94-2.06 2.06-.94-2.06-.94L8.5 2.5l-.94 2.06-2.06.94zm10 10l.94 2.06.94-2.06 2.06-.94-2.06-.94-.94-2.06-.94 2.06-2.06.94z\"/><path d=\"M17.41 7.96l-1.37-1.37c-.4-.4-.92-.59-1.43-.59-.52 0-1.04.2-1.43.59L10.3 9.45l-7.72 7.72c-.78.78-.78 2.05 0 2.83L4 21.41c.39.39.9.59 1.41.59.51 0 1.02-.2 1.41-.59l7.78-7.78 2.81-2.81c.8-.78.8-2.07 0-2.86zM5.41 20L4 18.59l7.72-7.72 1.47 1.35L5.41 20z\"/>\n",
              "  </svg>\n",
              "      </button>\n",
              "      \n",
              "  <style>\n",
              "    .colab-df-container {\n",
              "      display:flex;\n",
              "      flex-wrap:wrap;\n",
              "      gap: 12px;\n",
              "    }\n",
              "\n",
              "    .colab-df-convert {\n",
              "      background-color: #E8F0FE;\n",
              "      border: none;\n",
              "      border-radius: 50%;\n",
              "      cursor: pointer;\n",
              "      display: none;\n",
              "      fill: #1967D2;\n",
              "      height: 32px;\n",
              "      padding: 0 0 0 0;\n",
              "      width: 32px;\n",
              "    }\n",
              "\n",
              "    .colab-df-convert:hover {\n",
              "      background-color: #E2EBFA;\n",
              "      box-shadow: 0px 1px 2px rgba(60, 64, 67, 0.3), 0px 1px 3px 1px rgba(60, 64, 67, 0.15);\n",
              "      fill: #174EA6;\n",
              "    }\n",
              "\n",
              "    [theme=dark] .colab-df-convert {\n",
              "      background-color: #3B4455;\n",
              "      fill: #D2E3FC;\n",
              "    }\n",
              "\n",
              "    [theme=dark] .colab-df-convert:hover {\n",
              "      background-color: #434B5C;\n",
              "      box-shadow: 0px 1px 3px 1px rgba(0, 0, 0, 0.15);\n",
              "      filter: drop-shadow(0px 1px 2px rgba(0, 0, 0, 0.3));\n",
              "      fill: #FFFFFF;\n",
              "    }\n",
              "  </style>\n",
              "\n",
              "      <script>\n",
              "        const buttonEl =\n",
              "          document.querySelector('#df-26b02b41-e383-4bdc-a0e7-79bd4764bd85 button.colab-df-convert');\n",
              "        buttonEl.style.display =\n",
              "          google.colab.kernel.accessAllowed ? 'block' : 'none';\n",
              "\n",
              "        async function convertToInteractive(key) {\n",
              "          const element = document.querySelector('#df-26b02b41-e383-4bdc-a0e7-79bd4764bd85');\n",
              "          const dataTable =\n",
              "            await google.colab.kernel.invokeFunction('convertToInteractive',\n",
              "                                                     [key], {});\n",
              "          if (!dataTable) return;\n",
              "\n",
              "          const docLinkHtml = 'Like what you see? Visit the ' +\n",
              "            '<a target=\"_blank\" href=https://colab.research.google.com/notebooks/data_table.ipynb>data table notebook</a>'\n",
              "            + ' to learn more about interactive tables.';\n",
              "          element.innerHTML = '';\n",
              "          dataTable['output_type'] = 'display_data';\n",
              "          await google.colab.output.renderOutput(dataTable, element);\n",
              "          const docLink = document.createElement('div');\n",
              "          docLink.innerHTML = docLinkHtml;\n",
              "          element.appendChild(docLink);\n",
              "        }\n",
              "      </script>\n",
              "    </div>\n",
              "  </div>\n",
              "  "
            ]
          },
          "metadata": {},
          "execution_count": 42
        }
      ]
    },
    {
      "cell_type": "markdown",
      "source": [
        "##**Exploratory Data Analysis**"
      ],
      "metadata": {
        "id": "6MSWfqSaOkFd"
      }
    },
    {
      "cell_type": "code",
      "source": [
        "#Information about this dataset\n",
        "df.info()"
      ],
      "metadata": {
        "id": "n1lRtktUB4M_",
        "colab": {
          "base_uri": "https://localhost:8080/"
        },
        "outputId": "fdc6721c-6be5-41ea-9e3d-631bdbb20b15"
      },
      "execution_count": 43,
      "outputs": [
        {
          "output_type": "stream",
          "name": "stdout",
          "text": [
            "<class 'pandas.core.frame.DataFrame'>\n",
            "RangeIndex: 101 entries, 0 to 100\n",
            "Data columns (total 11 columns):\n",
            " #   Column                                        Non-Null Count  Dtype  \n",
            "---  ------                                        --------------  -----  \n",
            " 0   Timestamp                                     101 non-null    object \n",
            " 1   Choose your gender                            101 non-null    object \n",
            " 2   Age                                           100 non-null    float64\n",
            " 3   What is your course?                          101 non-null    object \n",
            " 4   Your current year of Study                    101 non-null    object \n",
            " 5   What is your CGPA?                            101 non-null    object \n",
            " 6   Marital status                                101 non-null    object \n",
            " 7   Do you have Depression?                       101 non-null    object \n",
            " 8   Do you have Anxiety?                          101 non-null    object \n",
            " 9   Do you have Panic attack?                     101 non-null    object \n",
            " 10  Did you seek any specialist for a treatment?  101 non-null    object \n",
            "dtypes: float64(1), object(10)\n",
            "memory usage: 8.8+ KB\n"
          ]
        }
      ]
    },
    {
      "cell_type": "code",
      "source": [
        "#Checking datasets shape\n",
        "df.shape"
      ],
      "metadata": {
        "id": "yrmcfU6jCGV2",
        "colab": {
          "base_uri": "https://localhost:8080/"
        },
        "outputId": "49a1368a-508e-41d6-ca7a-ec9fdc0c432c"
      },
      "execution_count": 44,
      "outputs": [
        {
          "output_type": "execute_result",
          "data": {
            "text/plain": [
              "(101, 11)"
            ]
          },
          "metadata": {},
          "execution_count": 44
        }
      ]
    },
    {
      "cell_type": "markdown",
      "source": [
        "> **Insight**\n",
        "\n",
        "* There is a **missing value** in the `Age` column.\n",
        "* The data type of `Age` is float64 while age is an **integer** so it needs to be converted to integer data type.\n",
        "* The column name is **too long** so it needs to be shortened.\n",
        "* The data type of the columns `Do you have Depression`, `Do you have Anxiety`, `Do you have Panic attack`, and `Did you seek any specialist for a treatment?`, must be **Boolean**.\n",
        "* This dataset has **11 columns and 101 rows**.\n",
        "\n"
      ],
      "metadata": {
        "id": "R4oRq6tFYrlN"
      }
    },
    {
      "cell_type": "markdown",
      "source": [
        "> **Action**\n",
        "\n",
        "* Removed the `Timestamp` field because it only shows when the audience filled out the form, so it is not needed in the analysis."
      ],
      "metadata": {
        "id": "-ugTD9IHaa_H"
      }
    },
    {
      "cell_type": "code",
      "source": [
        "#Remove the column 'Timestamp' as it is not used.\n",
        "df.drop(['Timestamp'], axis = 1, inplace = True)"
      ],
      "metadata": {
        "id": "ra87Ng1KOyGS"
      },
      "execution_count": 45,
      "outputs": []
    },
    {
      "cell_type": "markdown",
      "source": [
        "> **Action**\n",
        "\n",
        "* Shorten the column name."
      ],
      "metadata": {
        "id": "DYj3OMdObYWx"
      }
    },
    {
      "cell_type": "code",
      "source": [
        "#Rename columns\n",
        "df_column = {'Choose your gender':'Gender','What is your course?':'Course',\n",
        "             'Your current year of Study':'Year Study','What is your CGPA?':'CGPA',\n",
        "             'Do you have Depression?':'Depression', 'Marital status':'Marital',\n",
        "             'Do you have Anxiety?':'Anxiety', 'Do you have Panic attack?':'Panic Attack',\n",
        "             'Did you seek any specialist for a treatment?':'Treatment'}\n",
        "df.rename(columns=df_column,inplace=True)\n",
        "df.head()"
      ],
      "metadata": {
        "id": "KeLKmvdf-tWi",
        "colab": {
          "base_uri": "https://localhost:8080/",
          "height": 206
        },
        "outputId": "7a6b9720-98b3-4e2b-f38e-eef1b3e9b897"
      },
      "execution_count": 46,
      "outputs": [
        {
          "output_type": "execute_result",
          "data": {
            "text/plain": [
              "   Gender   Age             Course Year Study         CGPA Marital Depression  \\\n",
              "0  Female  18.0        Engineering     year 1  3.00 - 3.49      No        Yes   \n",
              "1    Male  21.0  Islamic education     year 2  3.00 - 3.49      No         No   \n",
              "2    Male  19.0                BIT     Year 1  3.00 - 3.49      No        Yes   \n",
              "3  Female  22.0               Laws     year 3  3.00 - 3.49     Yes        Yes   \n",
              "4    Male  23.0       Mathemathics     year 4  3.00 - 3.49      No         No   \n",
              "\n",
              "  Anxiety Panic Attack Treatment  \n",
              "0      No          Yes        No  \n",
              "1     Yes           No        No  \n",
              "2     Yes          Yes        No  \n",
              "3      No           No        No  \n",
              "4      No           No        No  "
            ],
            "text/html": [
              "\n",
              "  <div id=\"df-23d7ccef-c4e6-4808-b231-69004931ac49\">\n",
              "    <div class=\"colab-df-container\">\n",
              "      <div>\n",
              "<style scoped>\n",
              "    .dataframe tbody tr th:only-of-type {\n",
              "        vertical-align: middle;\n",
              "    }\n",
              "\n",
              "    .dataframe tbody tr th {\n",
              "        vertical-align: top;\n",
              "    }\n",
              "\n",
              "    .dataframe thead th {\n",
              "        text-align: right;\n",
              "    }\n",
              "</style>\n",
              "<table border=\"1\" class=\"dataframe\">\n",
              "  <thead>\n",
              "    <tr style=\"text-align: right;\">\n",
              "      <th></th>\n",
              "      <th>Gender</th>\n",
              "      <th>Age</th>\n",
              "      <th>Course</th>\n",
              "      <th>Year Study</th>\n",
              "      <th>CGPA</th>\n",
              "      <th>Marital</th>\n",
              "      <th>Depression</th>\n",
              "      <th>Anxiety</th>\n",
              "      <th>Panic Attack</th>\n",
              "      <th>Treatment</th>\n",
              "    </tr>\n",
              "  </thead>\n",
              "  <tbody>\n",
              "    <tr>\n",
              "      <th>0</th>\n",
              "      <td>Female</td>\n",
              "      <td>18.0</td>\n",
              "      <td>Engineering</td>\n",
              "      <td>year 1</td>\n",
              "      <td>3.00 - 3.49</td>\n",
              "      <td>No</td>\n",
              "      <td>Yes</td>\n",
              "      <td>No</td>\n",
              "      <td>Yes</td>\n",
              "      <td>No</td>\n",
              "    </tr>\n",
              "    <tr>\n",
              "      <th>1</th>\n",
              "      <td>Male</td>\n",
              "      <td>21.0</td>\n",
              "      <td>Islamic education</td>\n",
              "      <td>year 2</td>\n",
              "      <td>3.00 - 3.49</td>\n",
              "      <td>No</td>\n",
              "      <td>No</td>\n",
              "      <td>Yes</td>\n",
              "      <td>No</td>\n",
              "      <td>No</td>\n",
              "    </tr>\n",
              "    <tr>\n",
              "      <th>2</th>\n",
              "      <td>Male</td>\n",
              "      <td>19.0</td>\n",
              "      <td>BIT</td>\n",
              "      <td>Year 1</td>\n",
              "      <td>3.00 - 3.49</td>\n",
              "      <td>No</td>\n",
              "      <td>Yes</td>\n",
              "      <td>Yes</td>\n",
              "      <td>Yes</td>\n",
              "      <td>No</td>\n",
              "    </tr>\n",
              "    <tr>\n",
              "      <th>3</th>\n",
              "      <td>Female</td>\n",
              "      <td>22.0</td>\n",
              "      <td>Laws</td>\n",
              "      <td>year 3</td>\n",
              "      <td>3.00 - 3.49</td>\n",
              "      <td>Yes</td>\n",
              "      <td>Yes</td>\n",
              "      <td>No</td>\n",
              "      <td>No</td>\n",
              "      <td>No</td>\n",
              "    </tr>\n",
              "    <tr>\n",
              "      <th>4</th>\n",
              "      <td>Male</td>\n",
              "      <td>23.0</td>\n",
              "      <td>Mathemathics</td>\n",
              "      <td>year 4</td>\n",
              "      <td>3.00 - 3.49</td>\n",
              "      <td>No</td>\n",
              "      <td>No</td>\n",
              "      <td>No</td>\n",
              "      <td>No</td>\n",
              "      <td>No</td>\n",
              "    </tr>\n",
              "  </tbody>\n",
              "</table>\n",
              "</div>\n",
              "      <button class=\"colab-df-convert\" onclick=\"convertToInteractive('df-23d7ccef-c4e6-4808-b231-69004931ac49')\"\n",
              "              title=\"Convert this dataframe to an interactive table.\"\n",
              "              style=\"display:none;\">\n",
              "        \n",
              "  <svg xmlns=\"http://www.w3.org/2000/svg\" height=\"24px\"viewBox=\"0 0 24 24\"\n",
              "       width=\"24px\">\n",
              "    <path d=\"M0 0h24v24H0V0z\" fill=\"none\"/>\n",
              "    <path d=\"M18.56 5.44l.94 2.06.94-2.06 2.06-.94-2.06-.94-.94-2.06-.94 2.06-2.06.94zm-11 1L8.5 8.5l.94-2.06 2.06-.94-2.06-.94L8.5 2.5l-.94 2.06-2.06.94zm10 10l.94 2.06.94-2.06 2.06-.94-2.06-.94-.94-2.06-.94 2.06-2.06.94z\"/><path d=\"M17.41 7.96l-1.37-1.37c-.4-.4-.92-.59-1.43-.59-.52 0-1.04.2-1.43.59L10.3 9.45l-7.72 7.72c-.78.78-.78 2.05 0 2.83L4 21.41c.39.39.9.59 1.41.59.51 0 1.02-.2 1.41-.59l7.78-7.78 2.81-2.81c.8-.78.8-2.07 0-2.86zM5.41 20L4 18.59l7.72-7.72 1.47 1.35L5.41 20z\"/>\n",
              "  </svg>\n",
              "      </button>\n",
              "      \n",
              "  <style>\n",
              "    .colab-df-container {\n",
              "      display:flex;\n",
              "      flex-wrap:wrap;\n",
              "      gap: 12px;\n",
              "    }\n",
              "\n",
              "    .colab-df-convert {\n",
              "      background-color: #E8F0FE;\n",
              "      border: none;\n",
              "      border-radius: 50%;\n",
              "      cursor: pointer;\n",
              "      display: none;\n",
              "      fill: #1967D2;\n",
              "      height: 32px;\n",
              "      padding: 0 0 0 0;\n",
              "      width: 32px;\n",
              "    }\n",
              "\n",
              "    .colab-df-convert:hover {\n",
              "      background-color: #E2EBFA;\n",
              "      box-shadow: 0px 1px 2px rgba(60, 64, 67, 0.3), 0px 1px 3px 1px rgba(60, 64, 67, 0.15);\n",
              "      fill: #174EA6;\n",
              "    }\n",
              "\n",
              "    [theme=dark] .colab-df-convert {\n",
              "      background-color: #3B4455;\n",
              "      fill: #D2E3FC;\n",
              "    }\n",
              "\n",
              "    [theme=dark] .colab-df-convert:hover {\n",
              "      background-color: #434B5C;\n",
              "      box-shadow: 0px 1px 3px 1px rgba(0, 0, 0, 0.15);\n",
              "      filter: drop-shadow(0px 1px 2px rgba(0, 0, 0, 0.3));\n",
              "      fill: #FFFFFF;\n",
              "    }\n",
              "  </style>\n",
              "\n",
              "      <script>\n",
              "        const buttonEl =\n",
              "          document.querySelector('#df-23d7ccef-c4e6-4808-b231-69004931ac49 button.colab-df-convert');\n",
              "        buttonEl.style.display =\n",
              "          google.colab.kernel.accessAllowed ? 'block' : 'none';\n",
              "\n",
              "        async function convertToInteractive(key) {\n",
              "          const element = document.querySelector('#df-23d7ccef-c4e6-4808-b231-69004931ac49');\n",
              "          const dataTable =\n",
              "            await google.colab.kernel.invokeFunction('convertToInteractive',\n",
              "                                                     [key], {});\n",
              "          if (!dataTable) return;\n",
              "\n",
              "          const docLinkHtml = 'Like what you see? Visit the ' +\n",
              "            '<a target=\"_blank\" href=https://colab.research.google.com/notebooks/data_table.ipynb>data table notebook</a>'\n",
              "            + ' to learn more about interactive tables.';\n",
              "          element.innerHTML = '';\n",
              "          dataTable['output_type'] = 'display_data';\n",
              "          await google.colab.output.renderOutput(dataTable, element);\n",
              "          const docLink = document.createElement('div');\n",
              "          docLink.innerHTML = docLinkHtml;\n",
              "          element.appendChild(docLink);\n",
              "        }\n",
              "      </script>\n",
              "    </div>\n",
              "  </div>\n",
              "  "
            ]
          },
          "metadata": {},
          "execution_count": 46
        }
      ]
    },
    {
      "cell_type": "markdown",
      "source": [
        "> **Action**\n",
        "\n",
        "* Convert the data type of the columns `Marital`, `Depression`, `Anxiety`, `Panic Attack`, and `Treatment?` to data type Boolean."
      ],
      "metadata": {
        "id": "9qMvajV2cPSM"
      }
    },
    {
      "cell_type": "code",
      "source": [
        "# Convert data types\n",
        "df[['Marital','Depression', 'Anxiety', 'Panic Attack', 'Treatment']] = df[['Marital','Depression', 'Anxiety', \n",
        "                                                                 'Panic Attack', 'Treatment']].replace(['Yes', 'No'],\n",
        "                                                                                                       [True, False])\n",
        "df[['Marital','Depression', 'Anxiety', 'Panic Attack', 'Treatment']].info()"
      ],
      "metadata": {
        "id": "bPn6AYqiipU0",
        "colab": {
          "base_uri": "https://localhost:8080/"
        },
        "outputId": "cc2bf103-77a4-4924-b2a0-5184bcdacfea"
      },
      "execution_count": 47,
      "outputs": [
        {
          "output_type": "stream",
          "name": "stdout",
          "text": [
            "<class 'pandas.core.frame.DataFrame'>\n",
            "RangeIndex: 101 entries, 0 to 100\n",
            "Data columns (total 5 columns):\n",
            " #   Column        Non-Null Count  Dtype\n",
            "---  ------        --------------  -----\n",
            " 0   Marital       101 non-null    bool \n",
            " 1   Depression    101 non-null    bool \n",
            " 2   Anxiety       101 non-null    bool \n",
            " 3   Panic Attack  101 non-null    bool \n",
            " 4   Treatment     101 non-null    bool \n",
            "dtypes: bool(5)\n",
            "memory usage: 633.0 bytes\n"
          ]
        }
      ]
    },
    {
      "cell_type": "code",
      "source": [
        "#Check Dataframe\n",
        "df.head()"
      ],
      "metadata": {
        "id": "zFOHbM-1_c1H",
        "colab": {
          "base_uri": "https://localhost:8080/",
          "height": 206
        },
        "outputId": "907bc748-eb9f-4398-a22c-10800127622c"
      },
      "execution_count": 48,
      "outputs": [
        {
          "output_type": "execute_result",
          "data": {
            "text/plain": [
              "   Gender   Age             Course Year Study         CGPA  Marital  \\\n",
              "0  Female  18.0        Engineering     year 1  3.00 - 3.49    False   \n",
              "1    Male  21.0  Islamic education     year 2  3.00 - 3.49    False   \n",
              "2    Male  19.0                BIT     Year 1  3.00 - 3.49    False   \n",
              "3  Female  22.0               Laws     year 3  3.00 - 3.49     True   \n",
              "4    Male  23.0       Mathemathics     year 4  3.00 - 3.49    False   \n",
              "\n",
              "   Depression  Anxiety  Panic Attack  Treatment  \n",
              "0        True    False          True      False  \n",
              "1       False     True         False      False  \n",
              "2        True     True          True      False  \n",
              "3        True    False         False      False  \n",
              "4       False    False         False      False  "
            ],
            "text/html": [
              "\n",
              "  <div id=\"df-57e80361-7251-459f-8d8b-04ebeedf33ab\">\n",
              "    <div class=\"colab-df-container\">\n",
              "      <div>\n",
              "<style scoped>\n",
              "    .dataframe tbody tr th:only-of-type {\n",
              "        vertical-align: middle;\n",
              "    }\n",
              "\n",
              "    .dataframe tbody tr th {\n",
              "        vertical-align: top;\n",
              "    }\n",
              "\n",
              "    .dataframe thead th {\n",
              "        text-align: right;\n",
              "    }\n",
              "</style>\n",
              "<table border=\"1\" class=\"dataframe\">\n",
              "  <thead>\n",
              "    <tr style=\"text-align: right;\">\n",
              "      <th></th>\n",
              "      <th>Gender</th>\n",
              "      <th>Age</th>\n",
              "      <th>Course</th>\n",
              "      <th>Year Study</th>\n",
              "      <th>CGPA</th>\n",
              "      <th>Marital</th>\n",
              "      <th>Depression</th>\n",
              "      <th>Anxiety</th>\n",
              "      <th>Panic Attack</th>\n",
              "      <th>Treatment</th>\n",
              "    </tr>\n",
              "  </thead>\n",
              "  <tbody>\n",
              "    <tr>\n",
              "      <th>0</th>\n",
              "      <td>Female</td>\n",
              "      <td>18.0</td>\n",
              "      <td>Engineering</td>\n",
              "      <td>year 1</td>\n",
              "      <td>3.00 - 3.49</td>\n",
              "      <td>False</td>\n",
              "      <td>True</td>\n",
              "      <td>False</td>\n",
              "      <td>True</td>\n",
              "      <td>False</td>\n",
              "    </tr>\n",
              "    <tr>\n",
              "      <th>1</th>\n",
              "      <td>Male</td>\n",
              "      <td>21.0</td>\n",
              "      <td>Islamic education</td>\n",
              "      <td>year 2</td>\n",
              "      <td>3.00 - 3.49</td>\n",
              "      <td>False</td>\n",
              "      <td>False</td>\n",
              "      <td>True</td>\n",
              "      <td>False</td>\n",
              "      <td>False</td>\n",
              "    </tr>\n",
              "    <tr>\n",
              "      <th>2</th>\n",
              "      <td>Male</td>\n",
              "      <td>19.0</td>\n",
              "      <td>BIT</td>\n",
              "      <td>Year 1</td>\n",
              "      <td>3.00 - 3.49</td>\n",
              "      <td>False</td>\n",
              "      <td>True</td>\n",
              "      <td>True</td>\n",
              "      <td>True</td>\n",
              "      <td>False</td>\n",
              "    </tr>\n",
              "    <tr>\n",
              "      <th>3</th>\n",
              "      <td>Female</td>\n",
              "      <td>22.0</td>\n",
              "      <td>Laws</td>\n",
              "      <td>year 3</td>\n",
              "      <td>3.00 - 3.49</td>\n",
              "      <td>True</td>\n",
              "      <td>True</td>\n",
              "      <td>False</td>\n",
              "      <td>False</td>\n",
              "      <td>False</td>\n",
              "    </tr>\n",
              "    <tr>\n",
              "      <th>4</th>\n",
              "      <td>Male</td>\n",
              "      <td>23.0</td>\n",
              "      <td>Mathemathics</td>\n",
              "      <td>year 4</td>\n",
              "      <td>3.00 - 3.49</td>\n",
              "      <td>False</td>\n",
              "      <td>False</td>\n",
              "      <td>False</td>\n",
              "      <td>False</td>\n",
              "      <td>False</td>\n",
              "    </tr>\n",
              "  </tbody>\n",
              "</table>\n",
              "</div>\n",
              "      <button class=\"colab-df-convert\" onclick=\"convertToInteractive('df-57e80361-7251-459f-8d8b-04ebeedf33ab')\"\n",
              "              title=\"Convert this dataframe to an interactive table.\"\n",
              "              style=\"display:none;\">\n",
              "        \n",
              "  <svg xmlns=\"http://www.w3.org/2000/svg\" height=\"24px\"viewBox=\"0 0 24 24\"\n",
              "       width=\"24px\">\n",
              "    <path d=\"M0 0h24v24H0V0z\" fill=\"none\"/>\n",
              "    <path d=\"M18.56 5.44l.94 2.06.94-2.06 2.06-.94-2.06-.94-.94-2.06-.94 2.06-2.06.94zm-11 1L8.5 8.5l.94-2.06 2.06-.94-2.06-.94L8.5 2.5l-.94 2.06-2.06.94zm10 10l.94 2.06.94-2.06 2.06-.94-2.06-.94-.94-2.06-.94 2.06-2.06.94z\"/><path d=\"M17.41 7.96l-1.37-1.37c-.4-.4-.92-.59-1.43-.59-.52 0-1.04.2-1.43.59L10.3 9.45l-7.72 7.72c-.78.78-.78 2.05 0 2.83L4 21.41c.39.39.9.59 1.41.59.51 0 1.02-.2 1.41-.59l7.78-7.78 2.81-2.81c.8-.78.8-2.07 0-2.86zM5.41 20L4 18.59l7.72-7.72 1.47 1.35L5.41 20z\"/>\n",
              "  </svg>\n",
              "      </button>\n",
              "      \n",
              "  <style>\n",
              "    .colab-df-container {\n",
              "      display:flex;\n",
              "      flex-wrap:wrap;\n",
              "      gap: 12px;\n",
              "    }\n",
              "\n",
              "    .colab-df-convert {\n",
              "      background-color: #E8F0FE;\n",
              "      border: none;\n",
              "      border-radius: 50%;\n",
              "      cursor: pointer;\n",
              "      display: none;\n",
              "      fill: #1967D2;\n",
              "      height: 32px;\n",
              "      padding: 0 0 0 0;\n",
              "      width: 32px;\n",
              "    }\n",
              "\n",
              "    .colab-df-convert:hover {\n",
              "      background-color: #E2EBFA;\n",
              "      box-shadow: 0px 1px 2px rgba(60, 64, 67, 0.3), 0px 1px 3px 1px rgba(60, 64, 67, 0.15);\n",
              "      fill: #174EA6;\n",
              "    }\n",
              "\n",
              "    [theme=dark] .colab-df-convert {\n",
              "      background-color: #3B4455;\n",
              "      fill: #D2E3FC;\n",
              "    }\n",
              "\n",
              "    [theme=dark] .colab-df-convert:hover {\n",
              "      background-color: #434B5C;\n",
              "      box-shadow: 0px 1px 3px 1px rgba(0, 0, 0, 0.15);\n",
              "      filter: drop-shadow(0px 1px 2px rgba(0, 0, 0, 0.3));\n",
              "      fill: #FFFFFF;\n",
              "    }\n",
              "  </style>\n",
              "\n",
              "      <script>\n",
              "        const buttonEl =\n",
              "          document.querySelector('#df-57e80361-7251-459f-8d8b-04ebeedf33ab button.colab-df-convert');\n",
              "        buttonEl.style.display =\n",
              "          google.colab.kernel.accessAllowed ? 'block' : 'none';\n",
              "\n",
              "        async function convertToInteractive(key) {\n",
              "          const element = document.querySelector('#df-57e80361-7251-459f-8d8b-04ebeedf33ab');\n",
              "          const dataTable =\n",
              "            await google.colab.kernel.invokeFunction('convertToInteractive',\n",
              "                                                     [key], {});\n",
              "          if (!dataTable) return;\n",
              "\n",
              "          const docLinkHtml = 'Like what you see? Visit the ' +\n",
              "            '<a target=\"_blank\" href=https://colab.research.google.com/notebooks/data_table.ipynb>data table notebook</a>'\n",
              "            + ' to learn more about interactive tables.';\n",
              "          element.innerHTML = '';\n",
              "          dataTable['output_type'] = 'display_data';\n",
              "          await google.colab.output.renderOutput(dataTable, element);\n",
              "          const docLink = document.createElement('div');\n",
              "          docLink.innerHTML = docLinkHtml;\n",
              "          element.appendChild(docLink);\n",
              "        }\n",
              "      </script>\n",
              "    </div>\n",
              "  </div>\n",
              "  "
            ]
          },
          "metadata": {},
          "execution_count": 48
        }
      ]
    },
    {
      "cell_type": "markdown",
      "source": [
        "### **Missing Value**"
      ],
      "metadata": {
        "id": "mCi65tih0ajb"
      }
    },
    {
      "cell_type": "markdown",
      "source": [
        "> **Action**\n",
        "* Checking missing value"
      ],
      "metadata": {
        "id": "z-G5n9RZfY8N"
      }
    },
    {
      "cell_type": "code",
      "source": [
        "#Checking missing values\n",
        "df.isnull().sum()"
      ],
      "metadata": {
        "id": "cTobRo5GCI7I",
        "colab": {
          "base_uri": "https://localhost:8080/"
        },
        "outputId": "c6822ebe-ac5d-495e-e736-e1106f8fbfce"
      },
      "execution_count": 49,
      "outputs": [
        {
          "output_type": "execute_result",
          "data": {
            "text/plain": [
              "Gender          0\n",
              "Age             1\n",
              "Course          0\n",
              "Year Study      0\n",
              "CGPA            0\n",
              "Marital         0\n",
              "Depression      0\n",
              "Anxiety         0\n",
              "Panic Attack    0\n",
              "Treatment       0\n",
              "dtype: int64"
            ]
          },
          "metadata": {},
          "execution_count": 49
        }
      ]
    },
    {
      "cell_type": "markdown",
      "source": [
        "> **Insight**\n",
        "* There is **1 missing value** in the `Age` column. In order not to become an error in the analysis, **it will be deleted**."
      ],
      "metadata": {
        "id": "O1s_7gs_fqwh"
      }
    },
    {
      "cell_type": "code",
      "source": [
        "#Replacing missing value with central tendency\n",
        "df = df.dropna()\n",
        "df.isna().sum()"
      ],
      "metadata": {
        "id": "OQjyEJpMHMZP",
        "colab": {
          "base_uri": "https://localhost:8080/"
        },
        "outputId": "d3bacf70-a7db-46f5-ddad-eec312cff72b"
      },
      "execution_count": 50,
      "outputs": [
        {
          "output_type": "execute_result",
          "data": {
            "text/plain": [
              "Gender          0\n",
              "Age             0\n",
              "Course          0\n",
              "Year Study      0\n",
              "CGPA            0\n",
              "Marital         0\n",
              "Depression      0\n",
              "Anxiety         0\n",
              "Panic Attack    0\n",
              "Treatment       0\n",
              "dtype: int64"
            ]
          },
          "metadata": {},
          "execution_count": 50
        }
      ]
    },
    {
      "cell_type": "code",
      "source": [
        "df.shape"
      ],
      "metadata": {
        "id": "X6TOKixAgee1",
        "colab": {
          "base_uri": "https://localhost:8080/"
        },
        "outputId": "e190d03d-075e-473b-8050-fd34fe6ef35b"
      },
      "execution_count": 51,
      "outputs": [
        {
          "output_type": "execute_result",
          "data": {
            "text/plain": [
              "(100, 10)"
            ]
          },
          "metadata": {},
          "execution_count": 51
        }
      ]
    },
    {
      "cell_type": "markdown",
      "source": [
        "> **Insight**\n",
        "* The rows became **100** because **1 row** containing **missing values was deleted**."
      ],
      "metadata": {
        "id": "cxJdYFxzghhQ"
      }
    },
    {
      "cell_type": "markdown",
      "source": [
        "### Data Formatting & Cleaning"
      ],
      "metadata": {
        "id": "SSpl4vIA0nJy"
      }
    },
    {
      "cell_type": "markdown",
      "source": [
        "> **Action **\n",
        "* Convert `Age` data type to integer\n",
        "\n"
      ],
      "metadata": {
        "id": "Gfg8QeF9ezSC"
      }
    },
    {
      "cell_type": "code",
      "source": [
        "#Convert data type of Age column to int data type\n",
        "df['Age'] = df['Age'].astype(int)\n",
        "df.info()"
      ],
      "metadata": {
        "id": "G3PDc5cOgYMn",
        "colab": {
          "base_uri": "https://localhost:8080/"
        },
        "outputId": "d4bf69b8-24a1-419d-88e7-abf81951e8a3"
      },
      "execution_count": 52,
      "outputs": [
        {
          "output_type": "stream",
          "name": "stdout",
          "text": [
            "<class 'pandas.core.frame.DataFrame'>\n",
            "Int64Index: 100 entries, 0 to 100\n",
            "Data columns (total 10 columns):\n",
            " #   Column        Non-Null Count  Dtype \n",
            "---  ------        --------------  ----- \n",
            " 0   Gender        100 non-null    object\n",
            " 1   Age           100 non-null    int64 \n",
            " 2   Course        100 non-null    object\n",
            " 3   Year Study    100 non-null    object\n",
            " 4   CGPA          100 non-null    object\n",
            " 5   Marital       100 non-null    bool  \n",
            " 6   Depression    100 non-null    bool  \n",
            " 7   Anxiety       100 non-null    bool  \n",
            " 8   Panic Attack  100 non-null    bool  \n",
            " 9   Treatment     100 non-null    bool  \n",
            "dtypes: bool(5), int64(1), object(4)\n",
            "memory usage: 5.2+ KB\n"
          ]
        },
        {
          "output_type": "stream",
          "name": "stderr",
          "text": [
            "<ipython-input-52-f274c40fd302>:2: SettingWithCopyWarning: \n",
            "A value is trying to be set on a copy of a slice from a DataFrame.\n",
            "Try using .loc[row_indexer,col_indexer] = value instead\n",
            "\n",
            "See the caveats in the documentation: https://pandas.pydata.org/pandas-docs/stable/user_guide/indexing.html#returning-a-view-versus-a-copy\n",
            "  df['Age'] = df['Age'].astype(int)\n"
          ]
        }
      ]
    },
    {
      "cell_type": "markdown",
      "source": [
        "> **Action**\n",
        "* Checking the number of unique values for each column."
      ],
      "metadata": {
        "id": "rRxmH5PYhskG"
      }
    },
    {
      "cell_type": "code",
      "source": [
        "#Checking for the number of unique variables per column.\n",
        "df.nunique()"
      ],
      "metadata": {
        "id": "18c_P3J0DH4V",
        "colab": {
          "base_uri": "https://localhost:8080/"
        },
        "outputId": "2f8d624b-4a2e-4055-ea26-062ff8f9e250"
      },
      "execution_count": 53,
      "outputs": [
        {
          "output_type": "execute_result",
          "data": {
            "text/plain": [
              "Gender           2\n",
              "Age              7\n",
              "Course          49\n",
              "Year Study       7\n",
              "CGPA             6\n",
              "Marital          2\n",
              "Depression       2\n",
              "Anxiety          2\n",
              "Panic Attack     2\n",
              "Treatment        2\n",
              "dtype: int64"
            ]
          },
          "metadata": {},
          "execution_count": 53
        }
      ]
    },
    {
      "cell_type": "markdown",
      "source": [
        "> **Action**\n",
        "* Checked the unique values of the `Year Study`, `CGPA` and `Course` columns to see if there were any errors or inconsistencies in the unique values."
      ],
      "metadata": {
        "id": "kRiimXgBjRet"
      }
    },
    {
      "cell_type": "code",
      "source": [
        "#Checking unique value\n",
        "df[\"Year Study\"].unique()"
      ],
      "metadata": {
        "id": "gSf6MJhbF-UE",
        "colab": {
          "base_uri": "https://localhost:8080/"
        },
        "outputId": "e76a7fcb-1654-45a7-8ddf-ce6bfc484cfd"
      },
      "execution_count": 54,
      "outputs": [
        {
          "output_type": "execute_result",
          "data": {
            "text/plain": [
              "array(['year 1', 'year 2', 'Year 1', 'year 3', 'year 4', 'Year 2',\n",
              "       'Year 3'], dtype=object)"
            ]
          },
          "metadata": {},
          "execution_count": 54
        }
      ]
    },
    {
      "cell_type": "markdown",
      "source": [
        "> **Insight**\n",
        "* There is an **inconsistency in the unique value** of the `Year of Study` column which actually has the same value as `Year 2` with `Year 2` so it needs to be customized."
      ],
      "metadata": {
        "id": "VOi9t5HLu4-B"
      }
    },
    {
      "cell_type": "code",
      "source": [
        "#Replace unique value\n",
        "df['Year Study'].replace(['year 1','year 2','year 3','year 4'],['Year 1','Year 2','Year 3','Year 4'], inplace=True)\n",
        "df[\"Year Study\"].unique()"
      ],
      "metadata": {
        "id": "b5hcM7U7GZgK",
        "colab": {
          "base_uri": "https://localhost:8080/"
        },
        "outputId": "b65944ce-511b-4348-dd90-7c33082b87da"
      },
      "execution_count": 55,
      "outputs": [
        {
          "output_type": "stream",
          "name": "stderr",
          "text": [
            "/usr/local/lib/python3.8/dist-packages/pandas/core/generic.py:6619: SettingWithCopyWarning: \n",
            "A value is trying to be set on a copy of a slice from a DataFrame\n",
            "\n",
            "See the caveats in the documentation: https://pandas.pydata.org/pandas-docs/stable/user_guide/indexing.html#returning-a-view-versus-a-copy\n",
            "  return self._update_inplace(result)\n"
          ]
        },
        {
          "output_type": "execute_result",
          "data": {
            "text/plain": [
              "array(['Year 1', 'Year 2', 'Year 3', 'Year 4'], dtype=object)"
            ]
          },
          "metadata": {},
          "execution_count": 55
        }
      ]
    },
    {
      "cell_type": "code",
      "source": [
        "#Checking unique value of CGPA (column)\n",
        "df[\"CGPA\"].unique()"
      ],
      "metadata": {
        "id": "zwXua4lc9IbV",
        "colab": {
          "base_uri": "https://localhost:8080/"
        },
        "outputId": "a89c23e1-6c11-4ff8-fc9e-a2d6b267d773"
      },
      "execution_count": 56,
      "outputs": [
        {
          "output_type": "execute_result",
          "data": {
            "text/plain": [
              "array(['3.00 - 3.49', '3.50 - 4.00', '3.50 - 4.00 ', '2.50 - 2.99',\n",
              "       '2.00 - 2.49', '0 - 1.99'], dtype=object)"
            ]
          },
          "metadata": {},
          "execution_count": 56
        }
      ]
    },
    {
      "cell_type": "markdown",
      "source": [
        "> **Insight** \n",
        "* There is an **inconsistency of unique values** in the `CGPA` column such as `3.50 - 4.00` with `3.50 - 4.00 ` so it needs to be customized."
      ],
      "metadata": {
        "id": "FqCC-wOHvdLR"
      }
    },
    {
      "cell_type": "code",
      "source": [
        "#Replace unique value\n",
        "df.replace({'3.50 - 4.00 ':'3.50 - 4.00'},regex=True,inplace=True)\n",
        "df[\"CGPA\"].unique()"
      ],
      "metadata": {
        "id": "_r0uHiSE9mW6",
        "colab": {
          "base_uri": "https://localhost:8080/"
        },
        "outputId": "8ed49e3c-849b-4bb3-b34a-3de36e8b87a5"
      },
      "execution_count": 57,
      "outputs": [
        {
          "output_type": "stream",
          "name": "stderr",
          "text": [
            "/usr/local/lib/python3.8/dist-packages/pandas/core/frame.py:5238: SettingWithCopyWarning: \n",
            "A value is trying to be set on a copy of a slice from a DataFrame\n",
            "\n",
            "See the caveats in the documentation: https://pandas.pydata.org/pandas-docs/stable/user_guide/indexing.html#returning-a-view-versus-a-copy\n",
            "  return super().replace(\n"
          ]
        },
        {
          "output_type": "execute_result",
          "data": {
            "text/plain": [
              "array(['3.00 - 3.49', '3.50 - 4.00', '2.50 - 2.99', '2.00 - 2.49',\n",
              "       '0 - 1.99'], dtype=object)"
            ]
          },
          "metadata": {},
          "execution_count": 57
        }
      ]
    },
    {
      "cell_type": "code",
      "source": [
        "#Counting the number of each unique variable\n",
        "df['Course'].unique()"
      ],
      "metadata": {
        "id": "DJxpJLZzLXdc",
        "colab": {
          "base_uri": "https://localhost:8080/"
        },
        "outputId": "83c693c9-a0c6-400b-ace7-258d01b56ae7"
      },
      "execution_count": 58,
      "outputs": [
        {
          "output_type": "execute_result",
          "data": {
            "text/plain": [
              "array(['Engineering', 'Islamic education', 'BIT', 'Laws', 'Mathemathics',\n",
              "       'Pendidikan islam', 'BCS', 'Human Resources', 'Irkhs',\n",
              "       'Psychology', 'KENMS', 'Accounting ', 'ENM', 'Marine science',\n",
              "       'KOE', 'Banking Studies', 'Business Administration', 'Law',\n",
              "       'KIRKHS', 'Usuluddin ', 'TAASL', 'Engine', 'ALA',\n",
              "       'Biomedical science', 'koe', 'Kirkhs', 'BENL', 'Benl', 'IT', 'CTS',\n",
              "       'engin', 'Econs', 'MHSC', 'Malcom', 'Kop', 'Human Sciences ',\n",
              "       'Biotechnology', 'Communication ', 'Diploma Nursing',\n",
              "       'Pendidikan Islam ', 'Radiography', 'psychology', 'Fiqh fatwa ',\n",
              "       'DIPLOMA TESL', 'Koe', 'Fiqh', 'Islamic Education', 'Nursing ',\n",
              "       'Pendidikan Islam'], dtype=object)"
            ]
          },
          "metadata": {},
          "execution_count": 58
        }
      ]
    },
    {
      "cell_type": "markdown",
      "source": [
        "> **Insight**\n",
        "* `Course` column contains many **unique value inconsistencies.**"
      ],
      "metadata": {
        "id": "gMNZ3cYOLJnR"
      }
    },
    {
      "cell_type": "code",
      "source": [
        "#Replace and customizing unique values\n",
        "df['Course'] = df['Course'].str.strip()\n",
        "df['Course'] = df['Course'].str.lower()\n",
        "df['Course'].replace(['pendidikan islam','laws','engin','engine','bit','benl','econs','mhsc','cts','enm','bcs'],\n",
        "                     ['islamic education','law','engineering','engineering','it','human sciences','economics','health science(master)','career technology studies','engineering mathematics','computer science'], inplace=True)\n",
        "df[\"Course\"].unique()"
      ],
      "metadata": {
        "id": "agBdFV-EGRAn",
        "colab": {
          "base_uri": "https://localhost:8080/"
        },
        "outputId": "0ebfcd50-3a60-430a-cd84-16f6d562c5fb"
      },
      "execution_count": 59,
      "outputs": [
        {
          "output_type": "execute_result",
          "data": {
            "text/plain": [
              "array(['engineering', 'islamic education', 'it', 'law', 'mathemathics',\n",
              "       'computer science', 'human resources', 'irkhs', 'psychology',\n",
              "       'kenms', 'accounting', 'engineering mathematics', 'marine science',\n",
              "       'koe', 'banking studies', 'business administration', 'kirkhs',\n",
              "       'usuluddin', 'taasl', 'ala', 'biomedical science',\n",
              "       'human sciences', 'career technology studies', 'economics',\n",
              "       'health science(master)', 'malcom', 'kop', 'biotechnology',\n",
              "       'communication', 'diploma nursing', 'radiography', 'fiqh fatwa',\n",
              "       'diploma tesl', 'fiqh', 'nursing'], dtype=object)"
            ]
          },
          "metadata": {},
          "execution_count": 59
        }
      ]
    },
    {
      "cell_type": "markdown",
      "source": [
        "### **Summary Statistics**"
      ],
      "metadata": {
        "id": "BOXheq9j0vMH"
      }
    },
    {
      "cell_type": "markdown",
      "source": [
        "> **Action**\n",
        "* Checking Summary Statistics"
      ],
      "metadata": {
        "id": "cMFtCWqTeCJ9"
      }
    },
    {
      "cell_type": "code",
      "source": [
        "#Summary Statistics Dataset\n",
        "df.describe(include='all').T"
      ],
      "metadata": {
        "id": "swpeCXlqeQoD",
        "colab": {
          "base_uri": "https://localhost:8080/",
          "height": 363
        },
        "outputId": "d44dd5aa-8fbe-4151-83db-3a3281c28211"
      },
      "execution_count": 60,
      "outputs": [
        {
          "output_type": "execute_result",
          "data": {
            "text/plain": [
              "              count unique          top freq   mean      std   min   25%  \\\n",
              "Gender          100      2       Female   75    NaN      NaN   NaN   NaN   \n",
              "Age           100.0    NaN          NaN  NaN  20.53  2.49628  18.0  18.0   \n",
              "Course          100     35  engineering   20    NaN      NaN   NaN   NaN   \n",
              "Year Study      100      4       Year 1   42    NaN      NaN   NaN   NaN   \n",
              "CGPA            100      5  3.50 - 4.00   48    NaN      NaN   NaN   NaN   \n",
              "Marital         100      2        False   84    NaN      NaN   NaN   NaN   \n",
              "Depression      100      2        False   65    NaN      NaN   NaN   NaN   \n",
              "Anxiety         100      2        False   66    NaN      NaN   NaN   NaN   \n",
              "Panic Attack    100      2        False   67    NaN      NaN   NaN   NaN   \n",
              "Treatment       100      2        False   94    NaN      NaN   NaN   NaN   \n",
              "\n",
              "               50%   75%   max  \n",
              "Gender         NaN   NaN   NaN  \n",
              "Age           19.0  23.0  24.0  \n",
              "Course         NaN   NaN   NaN  \n",
              "Year Study     NaN   NaN   NaN  \n",
              "CGPA           NaN   NaN   NaN  \n",
              "Marital        NaN   NaN   NaN  \n",
              "Depression     NaN   NaN   NaN  \n",
              "Anxiety        NaN   NaN   NaN  \n",
              "Panic Attack   NaN   NaN   NaN  \n",
              "Treatment      NaN   NaN   NaN  "
            ],
            "text/html": [
              "\n",
              "  <div id=\"df-e55bfef5-21c8-4ee8-9734-8d2c87d8d123\">\n",
              "    <div class=\"colab-df-container\">\n",
              "      <div>\n",
              "<style scoped>\n",
              "    .dataframe tbody tr th:only-of-type {\n",
              "        vertical-align: middle;\n",
              "    }\n",
              "\n",
              "    .dataframe tbody tr th {\n",
              "        vertical-align: top;\n",
              "    }\n",
              "\n",
              "    .dataframe thead th {\n",
              "        text-align: right;\n",
              "    }\n",
              "</style>\n",
              "<table border=\"1\" class=\"dataframe\">\n",
              "  <thead>\n",
              "    <tr style=\"text-align: right;\">\n",
              "      <th></th>\n",
              "      <th>count</th>\n",
              "      <th>unique</th>\n",
              "      <th>top</th>\n",
              "      <th>freq</th>\n",
              "      <th>mean</th>\n",
              "      <th>std</th>\n",
              "      <th>min</th>\n",
              "      <th>25%</th>\n",
              "      <th>50%</th>\n",
              "      <th>75%</th>\n",
              "      <th>max</th>\n",
              "    </tr>\n",
              "  </thead>\n",
              "  <tbody>\n",
              "    <tr>\n",
              "      <th>Gender</th>\n",
              "      <td>100</td>\n",
              "      <td>2</td>\n",
              "      <td>Female</td>\n",
              "      <td>75</td>\n",
              "      <td>NaN</td>\n",
              "      <td>NaN</td>\n",
              "      <td>NaN</td>\n",
              "      <td>NaN</td>\n",
              "      <td>NaN</td>\n",
              "      <td>NaN</td>\n",
              "      <td>NaN</td>\n",
              "    </tr>\n",
              "    <tr>\n",
              "      <th>Age</th>\n",
              "      <td>100.0</td>\n",
              "      <td>NaN</td>\n",
              "      <td>NaN</td>\n",
              "      <td>NaN</td>\n",
              "      <td>20.53</td>\n",
              "      <td>2.49628</td>\n",
              "      <td>18.0</td>\n",
              "      <td>18.0</td>\n",
              "      <td>19.0</td>\n",
              "      <td>23.0</td>\n",
              "      <td>24.0</td>\n",
              "    </tr>\n",
              "    <tr>\n",
              "      <th>Course</th>\n",
              "      <td>100</td>\n",
              "      <td>35</td>\n",
              "      <td>engineering</td>\n",
              "      <td>20</td>\n",
              "      <td>NaN</td>\n",
              "      <td>NaN</td>\n",
              "      <td>NaN</td>\n",
              "      <td>NaN</td>\n",
              "      <td>NaN</td>\n",
              "      <td>NaN</td>\n",
              "      <td>NaN</td>\n",
              "    </tr>\n",
              "    <tr>\n",
              "      <th>Year Study</th>\n",
              "      <td>100</td>\n",
              "      <td>4</td>\n",
              "      <td>Year 1</td>\n",
              "      <td>42</td>\n",
              "      <td>NaN</td>\n",
              "      <td>NaN</td>\n",
              "      <td>NaN</td>\n",
              "      <td>NaN</td>\n",
              "      <td>NaN</td>\n",
              "      <td>NaN</td>\n",
              "      <td>NaN</td>\n",
              "    </tr>\n",
              "    <tr>\n",
              "      <th>CGPA</th>\n",
              "      <td>100</td>\n",
              "      <td>5</td>\n",
              "      <td>3.50 - 4.00</td>\n",
              "      <td>48</td>\n",
              "      <td>NaN</td>\n",
              "      <td>NaN</td>\n",
              "      <td>NaN</td>\n",
              "      <td>NaN</td>\n",
              "      <td>NaN</td>\n",
              "      <td>NaN</td>\n",
              "      <td>NaN</td>\n",
              "    </tr>\n",
              "    <tr>\n",
              "      <th>Marital</th>\n",
              "      <td>100</td>\n",
              "      <td>2</td>\n",
              "      <td>False</td>\n",
              "      <td>84</td>\n",
              "      <td>NaN</td>\n",
              "      <td>NaN</td>\n",
              "      <td>NaN</td>\n",
              "      <td>NaN</td>\n",
              "      <td>NaN</td>\n",
              "      <td>NaN</td>\n",
              "      <td>NaN</td>\n",
              "    </tr>\n",
              "    <tr>\n",
              "      <th>Depression</th>\n",
              "      <td>100</td>\n",
              "      <td>2</td>\n",
              "      <td>False</td>\n",
              "      <td>65</td>\n",
              "      <td>NaN</td>\n",
              "      <td>NaN</td>\n",
              "      <td>NaN</td>\n",
              "      <td>NaN</td>\n",
              "      <td>NaN</td>\n",
              "      <td>NaN</td>\n",
              "      <td>NaN</td>\n",
              "    </tr>\n",
              "    <tr>\n",
              "      <th>Anxiety</th>\n",
              "      <td>100</td>\n",
              "      <td>2</td>\n",
              "      <td>False</td>\n",
              "      <td>66</td>\n",
              "      <td>NaN</td>\n",
              "      <td>NaN</td>\n",
              "      <td>NaN</td>\n",
              "      <td>NaN</td>\n",
              "      <td>NaN</td>\n",
              "      <td>NaN</td>\n",
              "      <td>NaN</td>\n",
              "    </tr>\n",
              "    <tr>\n",
              "      <th>Panic Attack</th>\n",
              "      <td>100</td>\n",
              "      <td>2</td>\n",
              "      <td>False</td>\n",
              "      <td>67</td>\n",
              "      <td>NaN</td>\n",
              "      <td>NaN</td>\n",
              "      <td>NaN</td>\n",
              "      <td>NaN</td>\n",
              "      <td>NaN</td>\n",
              "      <td>NaN</td>\n",
              "      <td>NaN</td>\n",
              "    </tr>\n",
              "    <tr>\n",
              "      <th>Treatment</th>\n",
              "      <td>100</td>\n",
              "      <td>2</td>\n",
              "      <td>False</td>\n",
              "      <td>94</td>\n",
              "      <td>NaN</td>\n",
              "      <td>NaN</td>\n",
              "      <td>NaN</td>\n",
              "      <td>NaN</td>\n",
              "      <td>NaN</td>\n",
              "      <td>NaN</td>\n",
              "      <td>NaN</td>\n",
              "    </tr>\n",
              "  </tbody>\n",
              "</table>\n",
              "</div>\n",
              "      <button class=\"colab-df-convert\" onclick=\"convertToInteractive('df-e55bfef5-21c8-4ee8-9734-8d2c87d8d123')\"\n",
              "              title=\"Convert this dataframe to an interactive table.\"\n",
              "              style=\"display:none;\">\n",
              "        \n",
              "  <svg xmlns=\"http://www.w3.org/2000/svg\" height=\"24px\"viewBox=\"0 0 24 24\"\n",
              "       width=\"24px\">\n",
              "    <path d=\"M0 0h24v24H0V0z\" fill=\"none\"/>\n",
              "    <path d=\"M18.56 5.44l.94 2.06.94-2.06 2.06-.94-2.06-.94-.94-2.06-.94 2.06-2.06.94zm-11 1L8.5 8.5l.94-2.06 2.06-.94-2.06-.94L8.5 2.5l-.94 2.06-2.06.94zm10 10l.94 2.06.94-2.06 2.06-.94-2.06-.94-.94-2.06-.94 2.06-2.06.94z\"/><path d=\"M17.41 7.96l-1.37-1.37c-.4-.4-.92-.59-1.43-.59-.52 0-1.04.2-1.43.59L10.3 9.45l-7.72 7.72c-.78.78-.78 2.05 0 2.83L4 21.41c.39.39.9.59 1.41.59.51 0 1.02-.2 1.41-.59l7.78-7.78 2.81-2.81c.8-.78.8-2.07 0-2.86zM5.41 20L4 18.59l7.72-7.72 1.47 1.35L5.41 20z\"/>\n",
              "  </svg>\n",
              "      </button>\n",
              "      \n",
              "  <style>\n",
              "    .colab-df-container {\n",
              "      display:flex;\n",
              "      flex-wrap:wrap;\n",
              "      gap: 12px;\n",
              "    }\n",
              "\n",
              "    .colab-df-convert {\n",
              "      background-color: #E8F0FE;\n",
              "      border: none;\n",
              "      border-radius: 50%;\n",
              "      cursor: pointer;\n",
              "      display: none;\n",
              "      fill: #1967D2;\n",
              "      height: 32px;\n",
              "      padding: 0 0 0 0;\n",
              "      width: 32px;\n",
              "    }\n",
              "\n",
              "    .colab-df-convert:hover {\n",
              "      background-color: #E2EBFA;\n",
              "      box-shadow: 0px 1px 2px rgba(60, 64, 67, 0.3), 0px 1px 3px 1px rgba(60, 64, 67, 0.15);\n",
              "      fill: #174EA6;\n",
              "    }\n",
              "\n",
              "    [theme=dark] .colab-df-convert {\n",
              "      background-color: #3B4455;\n",
              "      fill: #D2E3FC;\n",
              "    }\n",
              "\n",
              "    [theme=dark] .colab-df-convert:hover {\n",
              "      background-color: #434B5C;\n",
              "      box-shadow: 0px 1px 3px 1px rgba(0, 0, 0, 0.15);\n",
              "      filter: drop-shadow(0px 1px 2px rgba(0, 0, 0, 0.3));\n",
              "      fill: #FFFFFF;\n",
              "    }\n",
              "  </style>\n",
              "\n",
              "      <script>\n",
              "        const buttonEl =\n",
              "          document.querySelector('#df-e55bfef5-21c8-4ee8-9734-8d2c87d8d123 button.colab-df-convert');\n",
              "        buttonEl.style.display =\n",
              "          google.colab.kernel.accessAllowed ? 'block' : 'none';\n",
              "\n",
              "        async function convertToInteractive(key) {\n",
              "          const element = document.querySelector('#df-e55bfef5-21c8-4ee8-9734-8d2c87d8d123');\n",
              "          const dataTable =\n",
              "            await google.colab.kernel.invokeFunction('convertToInteractive',\n",
              "                                                     [key], {});\n",
              "          if (!dataTable) return;\n",
              "\n",
              "          const docLinkHtml = 'Like what you see? Visit the ' +\n",
              "            '<a target=\"_blank\" href=https://colab.research.google.com/notebooks/data_table.ipynb>data table notebook</a>'\n",
              "            + ' to learn more about interactive tables.';\n",
              "          element.innerHTML = '';\n",
              "          dataTable['output_type'] = 'display_data';\n",
              "          await google.colab.output.renderOutput(dataTable, element);\n",
              "          const docLink = document.createElement('div');\n",
              "          docLink.innerHTML = docLinkHtml;\n",
              "          element.appendChild(docLink);\n",
              "        }\n",
              "      </script>\n",
              "    </div>\n",
              "  </div>\n",
              "  "
            ]
          },
          "metadata": {},
          "execution_count": 60
        }
      ]
    },
    {
      "cell_type": "markdown",
      "source": [
        "> **Insight**\n",
        "* The gender of the respondents was mostly **female** at around **75%**.\n",
        "* The youngest respondent was **18 years old** and the oldest was **24 years old**.\n",
        "* Course majority of respondents are **engineering**.\n",
        "* The majority of respondents were in their **first year of university**.\n",
        "* The majority of respondents had a CGPA of **3.50 - 4.00**.\n",
        "* **84%** of respondents are **single**.\n",
        "* There were **35 respondents** who had **depression issues**.\n",
        "* **34%** of respondents had **anxiety issues**.\n",
        "* Respondents who had **panic attacks issues** were **33 people**.\n",
        "* Just **6** respondents need a **specialist for treatment**."
      ],
      "metadata": {
        "id": "mGg1HS5LwDsY"
      }
    },
    {
      "cell_type": "markdown",
      "source": [
        "### **Skewness Distribution and Boxplot**"
      ],
      "metadata": {
        "id": "8CAI5q0B0zcV"
      }
    },
    {
      "cell_type": "markdown",
      "source": [
        "> **Action**\n",
        "* Check skewnees and boxplot of `Age` column"
      ],
      "metadata": {
        "id": "aIelDLHT6YEH"
      }
    },
    {
      "cell_type": "code",
      "source": [
        "# Check skewnees and boxplot of Age column\n",
        "df_age = df[['Age']]\n",
        "\n",
        "\n",
        "for col in df_age:\n",
        "    print(col)\n",
        "    print('Skew :', round(df_age[col].skew(), 2))\n",
        "    plt.figure(figsize = (15, 4))\n",
        "    plt.subplot(1, 2, 1)\n",
        "    df_age[col].plot(kind='hist')\n",
        "    plt.ylabel('count')\n",
        "    plt.subplot(1, 2, 2)\n",
        "    sns.boxplot(x=df_age[col])\n",
        "    plt.show()"
      ],
      "metadata": {
        "id": "0yVVLNg45pAG",
        "colab": {
          "base_uri": "https://localhost:8080/",
          "height": 314
        },
        "outputId": "ebf72d3d-ddb0-4e2d-eb41-869d82948425"
      },
      "execution_count": 61,
      "outputs": [
        {
          "output_type": "stream",
          "name": "stdout",
          "text": [
            "Age\n",
            "Skew : 0.38\n"
          ]
        },
        {
          "output_type": "display_data",
          "data": {
            "text/plain": [
              "<Figure size 1080x288 with 2 Axes>"
            ],
            "image/png": "[encoded data removed]"
          },
          "metadata": {
            "needs_background": "light"
          }
        }
      ]
    },
    {
      "cell_type": "markdown",
      "source": [
        "> **Insight**\n",
        "* There are **no outliers**\n",
        "* Skewnees : **0.38** (**distribution is fairly symmetrical**)\n",
        "\n",
        "* A skewness value greater than 1 or less than -1 indicates a highly skewed distribution. A value between 0.5 and 1 or -0.5 and -1 is moderately skewed. A value between -0.5 and 0.5 indicates that the distribution is fairly symmetrical."
      ],
      "metadata": {
        "id": "Acu-rL066bwi"
      }
    },
    {
      "cell_type": "markdown",
      "source": [
        "##**Mental Health Analysis**\n",
        "> Does mental health affect students' CGPA?\n",
        "\n",
        "> Let me show you!"
      ],
      "metadata": {
        "id": "Hv8zSe5_we3S"
      }
    },
    {
      "cell_type": "code",
      "source": [
        "#Creating a dataframe of students not have Depression, Anxiety, and Panic Attack\n",
        "no = df[(df[\"Depression\"]==False) & (df[\"Anxiety\"]==False) & (df[\"Panic Attack\"]==False)].reset_index(drop=True)\n",
        "no"
      ],
      "metadata": {
        "id": "vJa53558Fcg7",
        "colab": {
          "base_uri": "https://localhost:8080/",
          "height": 1000
        },
        "outputId": "bddcf36f-1b99-4274-c992-03a489953ace"
      },
      "execution_count": 62,
      "outputs": [
        {
          "output_type": "execute_result",
          "data": {
            "text/plain": [
              "    Gender  Age                   Course Year Study         CGPA  Marital  \\\n",
              "0     Male   23             mathemathics     Year 4  3.00 - 3.49    False   \n",
              "1   Female   19          human resources     Year 2  2.50 - 2.99    False   \n",
              "2   Female   20               psychology     Year 1  3.50 - 4.00    False   \n",
              "3     Male   19              engineering     Year 1  3.00 - 3.49    False   \n",
              "4     Male   24         computer science     Year 3  3.50 - 4.00    False   \n",
              "5   Female   24               accounting     Year 3  3.00 - 3.49    False   \n",
              "6   Female   18                      koe     Year 2  3.00 - 3.49    False   \n",
              "7   Female   24         computer science     Year 1  3.50 - 4.00    False   \n",
              "8   Female   24              engineering     Year 1  3.00 - 3.49    False   \n",
              "9   Female   18          banking studies     Year 1  3.50 - 4.00    False   \n",
              "10  Female   19              engineering     Year 1  3.50 - 4.00    False   \n",
              "11  Female   24         computer science     Year 4  3.50 - 4.00    False   \n",
              "12  Female   23  business administration     Year 2  3.00 - 3.49    False   \n",
              "13    Male   18         computer science     Year 2  3.00 - 3.49    False   \n",
              "14  Female   18              engineering     Year 1  2.00 - 2.49    False   \n",
              "15  Female   18                   kirkhs     Year 1  3.50 - 4.00    False   \n",
              "16  Female   22              engineering     Year 4  3.50 - 4.00    False   \n",
              "17  Female   18              engineering     Year 4  3.50 - 4.00    False   \n",
              "18  Female   19       biomedical science     Year 3  3.00 - 3.49    False   \n",
              "19    Male   21         computer science     Year 1  3.00 - 3.49    False   \n",
              "20    Male   23                   kirkhs     Year 3  3.50 - 4.00    False   \n",
              "21  Female   18         computer science     Year 1  3.50 - 4.00    False   \n",
              "22  Female   23           human sciences     Year 1  3.00 - 3.49    False   \n",
              "23  Female   19         computer science     Year 1  3.50 - 4.00    False   \n",
              "24  Female   24              engineering     Year 1  3.50 - 4.00    False   \n",
              "25  Female   24       biomedical science     Year 1  3.00 - 3.49    False   \n",
              "26    Male   18       biomedical science     Year 1     0 - 1.99    False   \n",
              "27  Female   19            biotechnology     Year 3     0 - 1.99    False   \n",
              "28  Female   18              engineering     Year 4  3.50 - 4.00    False   \n",
              "29  Female   24          diploma nursing     Year 2  3.50 - 4.00    False   \n",
              "30  Female   19        islamic education     Year 2  3.00 - 3.49    False   \n",
              "31    Male   23              radiography     Year 1  3.00 - 3.49    False   \n",
              "32  Female   19               fiqh fatwa     Year 3  3.00 - 3.49    False   \n",
              "33  Female   18        islamic education     Year 1  3.50 - 4.00    False   \n",
              "34  Female   23        islamic education     Year 4  3.50 - 4.00    False   \n",
              "35    Male   20       biomedical science     Year 2  3.00 - 3.49    False   \n",
              "\n",
              "    Depression  Anxiety  Panic Attack  Treatment  \n",
              "0        False    False         False      False  \n",
              "1        False    False         False      False  \n",
              "2        False    False         False      False  \n",
              "3        False    False         False      False  \n",
              "4        False    False         False      False  \n",
              "5        False    False         False      False  \n",
              "6        False    False         False      False  \n",
              "7        False    False         False      False  \n",
              "8        False    False         False      False  \n",
              "9        False    False         False      False  \n",
              "10       False    False         False      False  \n",
              "11       False    False         False      False  \n",
              "12       False    False         False      False  \n",
              "13       False    False         False      False  \n",
              "14       False    False         False      False  \n",
              "15       False    False         False      False  \n",
              "16       False    False         False      False  \n",
              "17       False    False         False      False  \n",
              "18       False    False         False      False  \n",
              "19       False    False         False      False  \n",
              "20       False    False         False      False  \n",
              "21       False    False         False      False  \n",
              "22       False    False         False      False  \n",
              "23       False    False         False      False  \n",
              "24       False    False         False      False  \n",
              "25       False    False         False      False  \n",
              "26       False    False         False      False  \n",
              "27       False    False         False      False  \n",
              "28       False    False         False      False  \n",
              "29       False    False         False      False  \n",
              "30       False    False         False      False  \n",
              "31       False    False         False      False  \n",
              "32       False    False         False      False  \n",
              "33       False    False         False      False  \n",
              "34       False    False         False      False  \n",
              "35       False    False         False      False  "
            ],
            "text/html": [
              "\n",
              "  <div id=\"df-534de3d3-a28a-449b-9a97-e99230853ad1\">\n",
              "    <div class=\"colab-df-container\">\n",
              "      <div>\n",
              "<style scoped>\n",
              "    .dataframe tbody tr th:only-of-type {\n",
              "        vertical-align: middle;\n",
              "    }\n",
              "\n",
              "    .dataframe tbody tr th {\n",
              "        vertical-align: top;\n",
              "    }\n",
              "\n",
              "    .dataframe thead th {\n",
              "        text-align: right;\n",
              "    }\n",
              "</style>\n",
              "<table border=\"1\" class=\"dataframe\">\n",
              "  <thead>\n",
              "    <tr style=\"text-align: right;\">\n",
              "      <th></th>\n",
              "      <th>Gender</th>\n",
              "      <th>Age</th>\n",
              "      <th>Course</th>\n",
              "      <th>Year Study</th>\n",
              "      <th>CGPA</th>\n",
              "      <th>Marital</th>\n",
              "      <th>Depression</th>\n",
              "      <th>Anxiety</th>\n",
              "      <th>Panic Attack</th>\n",
              "      <th>Treatment</th>\n",
              "    </tr>\n",
              "  </thead>\n",
              "  <tbody>\n",
              "    <tr>\n",
              "      <th>0</th>\n",
              "      <td>Male</td>\n",
              "      <td>23</td>\n",
              "      <td>mathemathics</td>\n",
              "      <td>Year 4</td>\n",
              "      <td>3.00 - 3.49</td>\n",
              "      <td>False</td>\n",
              "      <td>False</td>\n",
              "      <td>False</td>\n",
              "      <td>False</td>\n",
              "      <td>False</td>\n",
              "    </tr>\n",
              "    <tr>\n",
              "      <th>1</th>\n",
              "      <td>Female</td>\n",
              "      <td>19</td>\n",
              "      <td>human resources</td>\n",
              "      <td>Year 2</td>\n",
              "      <td>2.50 - 2.99</td>\n",
              "      <td>False</td>\n",
              "      <td>False</td>\n",
              "      <td>False</td>\n",
              "      <td>False</td>\n",
              "      <td>False</td>\n",
              "    </tr>\n",
              "    <tr>\n",
              "      <th>2</th>\n",
              "      <td>Female</td>\n",
              "      <td>20</td>\n",
              "      <td>psychology</td>\n",
              "      <td>Year 1</td>\n",
              "      <td>3.50 - 4.00</td>\n",
              "      <td>False</td>\n",
              "      <td>False</td>\n",
              "      <td>False</td>\n",
              "      <td>False</td>\n",
              "      <td>False</td>\n",
              "    </tr>\n",
              "    <tr>\n",
              "      <th>3</th>\n",
              "      <td>Male</td>\n",
              "      <td>19</td>\n",
              "      <td>engineering</td>\n",
              "      <td>Year 1</td>\n",
              "      <td>3.00 - 3.49</td>\n",
              "      <td>False</td>\n",
              "      <td>False</td>\n",
              "      <td>False</td>\n",
              "      <td>False</td>\n",
              "      <td>False</td>\n",
              "    </tr>\n",
              "    <tr>\n",
              "      <th>4</th>\n",
              "      <td>Male</td>\n",
              "      <td>24</td>\n",
              "      <td>computer science</td>\n",
              "      <td>Year 3</td>\n",
              "      <td>3.50 - 4.00</td>\n",
              "      <td>False</td>\n",
              "      <td>False</td>\n",
              "      <td>False</td>\n",
              "      <td>False</td>\n",
              "      <td>False</td>\n",
              "    </tr>\n",
              "    <tr>\n",
              "      <th>5</th>\n",
              "      <td>Female</td>\n",
              "      <td>24</td>\n",
              "      <td>accounting</td>\n",
              "      <td>Year 3</td>\n",
              "      <td>3.00 - 3.49</td>\n",
              "      <td>False</td>\n",
              "      <td>False</td>\n",
              "      <td>False</td>\n",
              "      <td>False</td>\n",
              "      <td>False</td>\n",
              "    </tr>\n",
              "    <tr>\n",
              "      <th>6</th>\n",
              "      <td>Female</td>\n",
              "      <td>18</td>\n",
              "      <td>koe</td>\n",
              "      <td>Year 2</td>\n",
              "      <td>3.00 - 3.49</td>\n",
              "      <td>False</td>\n",
              "      <td>False</td>\n",
              "      <td>False</td>\n",
              "      <td>False</td>\n",
              "      <td>False</td>\n",
              "    </tr>\n",
              "    <tr>\n",
              "      <th>7</th>\n",
              "      <td>Female</td>\n",
              "      <td>24</td>\n",
              "      <td>computer science</td>\n",
              "      <td>Year 1</td>\n",
              "      <td>3.50 - 4.00</td>\n",
              "      <td>False</td>\n",
              "      <td>False</td>\n",
              "      <td>False</td>\n",
              "      <td>False</td>\n",
              "      <td>False</td>\n",
              "    </tr>\n",
              "    <tr>\n",
              "      <th>8</th>\n",
              "      <td>Female</td>\n",
              "      <td>24</td>\n",
              "      <td>engineering</td>\n",
              "      <td>Year 1</td>\n",
              "      <td>3.00 - 3.49</td>\n",
              "      <td>False</td>\n",
              "      <td>False</td>\n",
              "      <td>False</td>\n",
              "      <td>False</td>\n",
              "      <td>False</td>\n",
              "    </tr>\n",
              "    <tr>\n",
              "      <th>9</th>\n",
              "      <td>Female</td>\n",
              "      <td>18</td>\n",
              "      <td>banking studies</td>\n",
              "      <td>Year 1</td>\n",
              "      <td>3.50 - 4.00</td>\n",
              "      <td>False</td>\n",
              "      <td>False</td>\n",
              "      <td>False</td>\n",
              "      <td>False</td>\n",
              "      <td>False</td>\n",
              "    </tr>\n",
              "    <tr>\n",
              "      <th>10</th>\n",
              "      <td>Female</td>\n",
              "      <td>19</td>\n",
              "      <td>engineering</td>\n",
              "      <td>Year 1</td>\n",
              "      <td>3.50 - 4.00</td>\n",
              "      <td>False</td>\n",
              "      <td>False</td>\n",
              "      <td>False</td>\n",
              "      <td>False</td>\n",
              "      <td>False</td>\n",
              "    </tr>\n",
              "    <tr>\n",
              "      <th>11</th>\n",
              "      <td>Female</td>\n",
              "      <td>24</td>\n",
              "      <td>computer science</td>\n",
              "      <td>Year 4</td>\n",
              "      <td>3.50 - 4.00</td>\n",
              "      <td>False</td>\n",
              "      <td>False</td>\n",
              "      <td>False</td>\n",
              "      <td>False</td>\n",
              "      <td>False</td>\n",
              "    </tr>\n",
              "    <tr>\n",
              "      <th>12</th>\n",
              "      <td>Female</td>\n",
              "      <td>23</td>\n",
              "      <td>business administration</td>\n",
              "      <td>Year 2</td>\n",
              "      <td>3.00 - 3.49</td>\n",
              "      <td>False</td>\n",
              "      <td>False</td>\n",
              "      <td>False</td>\n",
              "      <td>False</td>\n",
              "      <td>False</td>\n",
              "    </tr>\n",
              "    <tr>\n",
              "      <th>13</th>\n",
              "      <td>Male</td>\n",
              "      <td>18</td>\n",
              "      <td>computer science</td>\n",
              "      <td>Year 2</td>\n",
              "      <td>3.00 - 3.49</td>\n",
              "      <td>False</td>\n",
              "      <td>False</td>\n",
              "      <td>False</td>\n",
              "      <td>False</td>\n",
              "      <td>False</td>\n",
              "    </tr>\n",
              "    <tr>\n",
              "      <th>14</th>\n",
              "      <td>Female</td>\n",
              "      <td>18</td>\n",
              "      <td>engineering</td>\n",
              "      <td>Year 1</td>\n",
              "      <td>2.00 - 2.49</td>\n",
              "      <td>False</td>\n",
              "      <td>False</td>\n",
              "      <td>False</td>\n",
              "      <td>False</td>\n",
              "      <td>False</td>\n",
              "    </tr>\n",
              "    <tr>\n",
              "      <th>15</th>\n",
              "      <td>Female</td>\n",
              "      <td>18</td>\n",
              "      <td>kirkhs</td>\n",
              "      <td>Year 1</td>\n",
              "      <td>3.50 - 4.00</td>\n",
              "      <td>False</td>\n",
              "      <td>False</td>\n",
              "      <td>False</td>\n",
              "      <td>False</td>\n",
              "      <td>False</td>\n",
              "    </tr>\n",
              "    <tr>\n",
              "      <th>16</th>\n",
              "      <td>Female</td>\n",
              "      <td>22</td>\n",
              "      <td>engineering</td>\n",
              "      <td>Year 4</td>\n",
              "      <td>3.50 - 4.00</td>\n",
              "      <td>False</td>\n",
              "      <td>False</td>\n",
              "      <td>False</td>\n",
              "      <td>False</td>\n",
              "      <td>False</td>\n",
              "    </tr>\n",
              "    <tr>\n",
              "      <th>17</th>\n",
              "      <td>Female</td>\n",
              "      <td>18</td>\n",
              "      <td>engineering</td>\n",
              "      <td>Year 4</td>\n",
              "      <td>3.50 - 4.00</td>\n",
              "      <td>False</td>\n",
              "      <td>False</td>\n",
              "      <td>False</td>\n",
              "      <td>False</td>\n",
              "      <td>False</td>\n",
              "    </tr>\n",
              "    <tr>\n",
              "      <th>18</th>\n",
              "      <td>Female</td>\n",
              "      <td>19</td>\n",
              "      <td>biomedical science</td>\n",
              "      <td>Year 3</td>\n",
              "      <td>3.00 - 3.49</td>\n",
              "      <td>False</td>\n",
              "      <td>False</td>\n",
              "      <td>False</td>\n",
              "      <td>False</td>\n",
              "      <td>False</td>\n",
              "    </tr>\n",
              "    <tr>\n",
              "      <th>19</th>\n",
              "      <td>Male</td>\n",
              "      <td>21</td>\n",
              "      <td>computer science</td>\n",
              "      <td>Year 1</td>\n",
              "      <td>3.00 - 3.49</td>\n",
              "      <td>False</td>\n",
              "      <td>False</td>\n",
              "      <td>False</td>\n",
              "      <td>False</td>\n",
              "      <td>False</td>\n",
              "    </tr>\n",
              "    <tr>\n",
              "      <th>20</th>\n",
              "      <td>Male</td>\n",
              "      <td>23</td>\n",
              "      <td>kirkhs</td>\n",
              "      <td>Year 3</td>\n",
              "      <td>3.50 - 4.00</td>\n",
              "      <td>False</td>\n",
              "      <td>False</td>\n",
              "      <td>False</td>\n",
              "      <td>False</td>\n",
              "      <td>False</td>\n",
              "    </tr>\n",
              "    <tr>\n",
              "      <th>21</th>\n",
              "      <td>Female</td>\n",
              "      <td>18</td>\n",
              "      <td>computer science</td>\n",
              "      <td>Year 1</td>\n",
              "      <td>3.50 - 4.00</td>\n",
              "      <td>False</td>\n",
              "      <td>False</td>\n",
              "      <td>False</td>\n",
              "      <td>False</td>\n",
              "      <td>False</td>\n",
              "    </tr>\n",
              "    <tr>\n",
              "      <th>22</th>\n",
              "      <td>Female</td>\n",
              "      <td>23</td>\n",
              "      <td>human sciences</td>\n",
              "      <td>Year 1</td>\n",
              "      <td>3.00 - 3.49</td>\n",
              "      <td>False</td>\n",
              "      <td>False</td>\n",
              "      <td>False</td>\n",
              "      <td>False</td>\n",
              "      <td>False</td>\n",
              "    </tr>\n",
              "    <tr>\n",
              "      <th>23</th>\n",
              "      <td>Female</td>\n",
              "      <td>19</td>\n",
              "      <td>computer science</td>\n",
              "      <td>Year 1</td>\n",
              "      <td>3.50 - 4.00</td>\n",
              "      <td>False</td>\n",
              "      <td>False</td>\n",
              "      <td>False</td>\n",
              "      <td>False</td>\n",
              "      <td>False</td>\n",
              "    </tr>\n",
              "    <tr>\n",
              "      <th>24</th>\n",
              "      <td>Female</td>\n",
              "      <td>24</td>\n",
              "      <td>engineering</td>\n",
              "      <td>Year 1</td>\n",
              "      <td>3.50 - 4.00</td>\n",
              "      <td>False</td>\n",
              "      <td>False</td>\n",
              "      <td>False</td>\n",
              "      <td>False</td>\n",
              "      <td>False</td>\n",
              "    </tr>\n",
              "    <tr>\n",
              "      <th>25</th>\n",
              "      <td>Female</td>\n",
              "      <td>24</td>\n",
              "      <td>biomedical science</td>\n",
              "      <td>Year 1</td>\n",
              "      <td>3.00 - 3.49</td>\n",
              "      <td>False</td>\n",
              "      <td>False</td>\n",
              "      <td>False</td>\n",
              "      <td>False</td>\n",
              "      <td>False</td>\n",
              "    </tr>\n",
              "    <tr>\n",
              "      <th>26</th>\n",
              "      <td>Male</td>\n",
              "      <td>18</td>\n",
              "      <td>biomedical science</td>\n",
              "      <td>Year 1</td>\n",
              "      <td>0 - 1.99</td>\n",
              "      <td>False</td>\n",
              "      <td>False</td>\n",
              "      <td>False</td>\n",
              "      <td>False</td>\n",
              "      <td>False</td>\n",
              "    </tr>\n",
              "    <tr>\n",
              "      <th>27</th>\n",
              "      <td>Female</td>\n",
              "      <td>19</td>\n",
              "      <td>biotechnology</td>\n",
              "      <td>Year 3</td>\n",
              "      <td>0 - 1.99</td>\n",
              "      <td>False</td>\n",
              "      <td>False</td>\n",
              "      <td>False</td>\n",
              "      <td>False</td>\n",
              "      <td>False</td>\n",
              "    </tr>\n",
              "    <tr>\n",
              "      <th>28</th>\n",
              "      <td>Female</td>\n",
              "      <td>18</td>\n",
              "      <td>engineering</td>\n",
              "      <td>Year 4</td>\n",
              "      <td>3.50 - 4.00</td>\n",
              "      <td>False</td>\n",
              "      <td>False</td>\n",
              "      <td>False</td>\n",
              "      <td>False</td>\n",
              "      <td>False</td>\n",
              "    </tr>\n",
              "    <tr>\n",
              "      <th>29</th>\n",
              "      <td>Female</td>\n",
              "      <td>24</td>\n",
              "      <td>diploma nursing</td>\n",
              "      <td>Year 2</td>\n",
              "      <td>3.50 - 4.00</td>\n",
              "      <td>False</td>\n",
              "      <td>False</td>\n",
              "      <td>False</td>\n",
              "      <td>False</td>\n",
              "      <td>False</td>\n",
              "    </tr>\n",
              "    <tr>\n",
              "      <th>30</th>\n",
              "      <td>Female</td>\n",
              "      <td>19</td>\n",
              "      <td>islamic education</td>\n",
              "      <td>Year 2</td>\n",
              "      <td>3.00 - 3.49</td>\n",
              "      <td>False</td>\n",
              "      <td>False</td>\n",
              "      <td>False</td>\n",
              "      <td>False</td>\n",
              "      <td>False</td>\n",
              "    </tr>\n",
              "    <tr>\n",
              "      <th>31</th>\n",
              "      <td>Male</td>\n",
              "      <td>23</td>\n",
              "      <td>radiography</td>\n",
              "      <td>Year 1</td>\n",
              "      <td>3.00 - 3.49</td>\n",
              "      <td>False</td>\n",
              "      <td>False</td>\n",
              "      <td>False</td>\n",
              "      <td>False</td>\n",
              "      <td>False</td>\n",
              "    </tr>\n",
              "    <tr>\n",
              "      <th>32</th>\n",
              "      <td>Female</td>\n",
              "      <td>19</td>\n",
              "      <td>fiqh fatwa</td>\n",
              "      <td>Year 3</td>\n",
              "      <td>3.00 - 3.49</td>\n",
              "      <td>False</td>\n",
              "      <td>False</td>\n",
              "      <td>False</td>\n",
              "      <td>False</td>\n",
              "      <td>False</td>\n",
              "    </tr>\n",
              "    <tr>\n",
              "      <th>33</th>\n",
              "      <td>Female</td>\n",
              "      <td>18</td>\n",
              "      <td>islamic education</td>\n",
              "      <td>Year 1</td>\n",
              "      <td>3.50 - 4.00</td>\n",
              "      <td>False</td>\n",
              "      <td>False</td>\n",
              "      <td>False</td>\n",
              "      <td>False</td>\n",
              "      <td>False</td>\n",
              "    </tr>\n",
              "    <tr>\n",
              "      <th>34</th>\n",
              "      <td>Female</td>\n",
              "      <td>23</td>\n",
              "      <td>islamic education</td>\n",
              "      <td>Year 4</td>\n",
              "      <td>3.50 - 4.00</td>\n",
              "      <td>False</td>\n",
              "      <td>False</td>\n",
              "      <td>False</td>\n",
              "      <td>False</td>\n",
              "      <td>False</td>\n",
              "    </tr>\n",
              "    <tr>\n",
              "      <th>35</th>\n",
              "      <td>Male</td>\n",
              "      <td>20</td>\n",
              "      <td>biomedical science</td>\n",
              "      <td>Year 2</td>\n",
              "      <td>3.00 - 3.49</td>\n",
              "      <td>False</td>\n",
              "      <td>False</td>\n",
              "      <td>False</td>\n",
              "      <td>False</td>\n",
              "      <td>False</td>\n",
              "    </tr>\n",
              "  </tbody>\n",
              "</table>\n",
              "</div>\n",
              "      <button class=\"colab-df-convert\" onclick=\"convertToInteractive('df-534de3d3-a28a-449b-9a97-e99230853ad1')\"\n",
              "              title=\"Convert this dataframe to an interactive table.\"\n",
              "              style=\"display:none;\">\n",
              "        \n",
              "  <svg xmlns=\"http://www.w3.org/2000/svg\" height=\"24px\"viewBox=\"0 0 24 24\"\n",
              "       width=\"24px\">\n",
              "    <path d=\"M0 0h24v24H0V0z\" fill=\"none\"/>\n",
              "    <path d=\"M18.56 5.44l.94 2.06.94-2.06 2.06-.94-2.06-.94-.94-2.06-.94 2.06-2.06.94zm-11 1L8.5 8.5l.94-2.06 2.06-.94-2.06-.94L8.5 2.5l-.94 2.06-2.06.94zm10 10l.94 2.06.94-2.06 2.06-.94-2.06-.94-.94-2.06-.94 2.06-2.06.94z\"/><path d=\"M17.41 7.96l-1.37-1.37c-.4-.4-.92-.59-1.43-.59-.52 0-1.04.2-1.43.59L10.3 9.45l-7.72 7.72c-.78.78-.78 2.05 0 2.83L4 21.41c.39.39.9.59 1.41.59.51 0 1.02-.2 1.41-.59l7.78-7.78 2.81-2.81c.8-.78.8-2.07 0-2.86zM5.41 20L4 18.59l7.72-7.72 1.47 1.35L5.41 20z\"/>\n",
              "  </svg>\n",
              "      </button>\n",
              "      \n",
              "  <style>\n",
              "    .colab-df-container {\n",
              "      display:flex;\n",
              "      flex-wrap:wrap;\n",
              "      gap: 12px;\n",
              "    }\n",
              "\n",
              "    .colab-df-convert {\n",
              "      background-color: #E8F0FE;\n",
              "      border: none;\n",
              "      border-radius: 50%;\n",
              "      cursor: pointer;\n",
              "      display: none;\n",
              "      fill: #1967D2;\n",
              "      height: 32px;\n",
              "      padding: 0 0 0 0;\n",
              "      width: 32px;\n",
              "    }\n",
              "\n",
              "    .colab-df-convert:hover {\n",
              "      background-color: #E2EBFA;\n",
              "      box-shadow: 0px 1px 2px rgba(60, 64, 67, 0.3), 0px 1px 3px 1px rgba(60, 64, 67, 0.15);\n",
              "      fill: #174EA6;\n",
              "    }\n",
              "\n",
              "    [theme=dark] .colab-df-convert {\n",
              "      background-color: #3B4455;\n",
              "      fill: #D2E3FC;\n",
              "    }\n",
              "\n",
              "    [theme=dark] .colab-df-convert:hover {\n",
              "      background-color: #434B5C;\n",
              "      box-shadow: 0px 1px 3px 1px rgba(0, 0, 0, 0.15);\n",
              "      filter: drop-shadow(0px 1px 2px rgba(0, 0, 0, 0.3));\n",
              "      fill: #FFFFFF;\n",
              "    }\n",
              "  </style>\n",
              "\n",
              "      <script>\n",
              "        const buttonEl =\n",
              "          document.querySelector('#df-534de3d3-a28a-449b-9a97-e99230853ad1 button.colab-df-convert');\n",
              "        buttonEl.style.display =\n",
              "          google.colab.kernel.accessAllowed ? 'block' : 'none';\n",
              "\n",
              "        async function convertToInteractive(key) {\n",
              "          const element = document.querySelector('#df-534de3d3-a28a-449b-9a97-e99230853ad1');\n",
              "          const dataTable =\n",
              "            await google.colab.kernel.invokeFunction('convertToInteractive',\n",
              "                                                     [key], {});\n",
              "          if (!dataTable) return;\n",
              "\n",
              "          const docLinkHtml = 'Like what you see? Visit the ' +\n",
              "            '<a target=\"_blank\" href=https://colab.research.google.com/notebooks/data_table.ipynb>data table notebook</a>'\n",
              "            + ' to learn more about interactive tables.';\n",
              "          element.innerHTML = '';\n",
              "          dataTable['output_type'] = 'display_data';\n",
              "          await google.colab.output.renderOutput(dataTable, element);\n",
              "          const docLink = document.createElement('div');\n",
              "          docLink.innerHTML = docLinkHtml;\n",
              "          element.appendChild(docLink);\n",
              "        }\n",
              "      </script>\n",
              "    </div>\n",
              "  </div>\n",
              "  "
            ]
          },
          "metadata": {},
          "execution_count": 62
        }
      ]
    },
    {
      "cell_type": "markdown",
      "source": [
        "> **Insight**\n",
        "* There were **35 students** who did not experience any of the three mental health issues.\n",
        "* So, there were **75 students** who experienced one of the mental health issues.\n",
        "\n",
        "> **Question**\n",
        "* What about their CGPA?"
      ],
      "metadata": {
        "id": "k9uzxCkjF9j6"
      }
    },
    {
      "cell_type": "code",
      "source": [
        "#Visualization of the number of respondents who do not have mental health issues based on CGPA.\n",
        "sns.countplot(y='CGPA', data=no, order=no['CGPA'].value_counts().index,\n",
        "              palette=\"rocket\")\n",
        "plt.ylabel(' ')\n",
        "plt.title('CGPA of students with no depression, anxiety, and panic attacks')\n",
        "plt.show()"
      ],
      "metadata": {
        "id": "Iu00SwMIG2zB",
        "colab": {
          "base_uri": "https://localhost:8080/",
          "height": 295
        },
        "outputId": "83f72630-3e4c-44f5-8359-b2f2eb3f6d9a"
      },
      "execution_count": 63,
      "outputs": [
        {
          "output_type": "display_data",
          "data": {
            "text/plain": [
              "<Figure size 432x288 with 1 Axes>"
            ],
            "image/png": "[encoded data removed]"
          },
          "metadata": {
            "needs_background": "light"
          }
        }
      ]
    },
    {
      "cell_type": "markdown",
      "source": [
        "> **Insight**\n",
        " * **Students without mental health issues** mostly had a **CGPA of 3.50-4.00**.\n",
        "\n",
        "> **Question**\n",
        "* What is the GPA of students who have mental health issues?"
      ],
      "metadata": {
        "id": "XdPo1w70HD1g"
      }
    },
    {
      "cell_type": "code",
      "source": [
        "#Filtering student who have depression, anxiety, or panic attack\n",
        "dep = df[df[\"Depression\"]== True]\n",
        "anx = df[df[\"Anxiety\"]== True]\n",
        "pa = df[df[\"Panic Attack\"]== True]\n",
        "\n",
        "#Visualization of the number of respondents with mental health issues by CGPA.\n",
        "fig, axs = plt.subplots(1, 3, figsize=(20, 12))\n",
        "fig.suptitle('Relationship between CGPA and Student Mental Health')\n",
        "\n",
        "sns.countplot(ax=axs[0], y='CGPA', data=dep, order=dep['CGPA'].value_counts().index,\n",
        "              palette=\"rocket\")\n",
        "axs[0].set_title('Depresion vs CGPA')\n",
        "axs[0].set_ylabel(' ')\n",
        "\n",
        "sns.countplot(ax=axs[1], y='CGPA', data=anx, order=anx['CGPA'].value_counts().index,\n",
        "              palette=\"rocket\")\n",
        "axs[1].set_title('Anxiety vs CGPA')\n",
        "axs[1].set_ylabel(' ')\n",
        "\n",
        "sns.countplot(ax=axs[2], y='CGPA', data=pa, order=pa['CGPA'].value_counts().index,\n",
        "              palette=\"rocket\")\n",
        "axs[2].set_title('Panic Attack vs CGPA')\n",
        "axs[2].set_ylabel(' ')\n",
        "\n",
        "plt.subplots_adjust(wspace=0.4)\n",
        "plt.show()"
      ],
      "metadata": {
        "id": "Yp5qhzU18hC0",
        "colab": {
          "base_uri": "https://localhost:8080/",
          "height": 631
        },
        "outputId": "4a4bbf5e-18c1-476f-bd48-920073fd93ab"
      },
      "execution_count": 64,
      "outputs": [
        {
          "output_type": "display_data",
          "data": {
            "text/plain": [
              "<Figure size 1440x864 with 3 Axes>"
            ],
            "image/png": "[encoded data removed]"
          },
          "metadata": {
            "needs_background": "light"
          }
        }
      ]
    },
    {
      "cell_type": "markdown",
      "source": [
        "> **Insight**\n",
        "* Students with **anxiety or panic attack issues** mostly have a **GPA of 3.50 - 4.00**, while students with **depression issues** mostly have a **GPA of 3.00 - 3.49**.\n",
        "\n",
        "> **Question**\n",
        "* What is the CGPA of students who have all three mental health?"
      ],
      "metadata": {
        "id": "UUO7rzb_ANVT"
      }
    },
    {
      "cell_type": "code",
      "source": [
        "#Create a data frame of students who have all three mental health issues (Depression, Anxiety, and Panic Attacks)\n",
        "DAP = df[(df[\"Depression\"]==True) & (df[\"Anxiety\"]==True) & (df[\"Panic Attack\"]==True)].reset_index(drop=True)\n",
        "\n",
        "##Visualization of student CGPA based on students who have all three mental health issues (Depression, Anxiety, and Panic Attacks).\n",
        "sns.countplot(y='CGPA', data=DAP, order=DAP['CGPA'].value_counts().index,\n",
        "              palette=\"rocket\")\n",
        "plt.ylabel(' ')\n",
        "plt.title('CGPA of students with depression, anxiety, and panic attacks.')\n",
        "plt.show()"
      ],
      "metadata": {
        "id": "uIHB5yY9BnlF",
        "colab": {
          "base_uri": "https://localhost:8080/",
          "height": 295
        },
        "outputId": "90b14ee2-7d32-434e-a8a3-4a83f53e35c8"
      },
      "execution_count": 65,
      "outputs": [
        {
          "output_type": "display_data",
          "data": {
            "text/plain": [
              "<Figure size 432x288 with 1 Axes>"
            ],
            "image/png": "[encoded data removed]"
          },
          "metadata": {
            "needs_background": "light"
          }
        }
      ]
    },
    {
      "cell_type": "markdown",
      "source": [
        ">**Insight**\n",
        "* Students who have issues with **depression, anxiety and panic attacks** majority have the highest GPA of **3.50 - 4.00**.\n",
        "\n",
        ">**Question**\n",
        "* Do all students with one or more mental health issues require treatment?"
      ],
      "metadata": {
        "id": "kLHWNicLDhE_"
      }
    },
    {
      "cell_type": "code",
      "source": [
        "#Filtering student who have depression, anxiety, or panic attack\n",
        "dep = df[df[\"Depression\"]== True]\n",
        "anx = df[df[\"Anxiety\"]== True]\n",
        "pa = df[df[\"Panic Attack\"]== True]\n",
        "\n",
        "#Visualization who need treatment\n",
        "fig, axs = plt.subplots(1, 3, figsize=(22, 16))\n",
        "\n",
        "dep['Treatment'].value_counts().plot(ax=axs[0], kind='pie',\n",
        "                                       autopct = \"%.2f%%\", colors=['cadetblue','powderblue'], explode=(0.015,0),\n",
        "                                       startangle= -30, ylabel=' ')\n",
        "axs[0].set_title(label='Students who are depressed need treatment?', fontdict=None, loc='center')\n",
        "\n",
        "anx['Treatment'].value_counts().plot(ax=axs[1], kind='pie', autopct = '%.2f%%', \n",
        "                                     colors=['cadetblue','powderblue'], explode=(0.015,0),\n",
        "                                       startangle= -30, ylabel=' ')\n",
        "axs[1].set_title(label='Students who experience anxiety need treatment?', fontdict=None, loc='center')\n",
        "\n",
        "pa['Treatment'].value_counts().plot(ax=axs[2], kind='pie',\n",
        "                                        autopct = \"%.2f%%\", colors=['cadetblue','powderblue'], explode=(0.015,0),\n",
        "                                        startangle= -30, ylabel=' ')\n",
        "axs[2].set_title(label='Students who experience panic attacks need treatment?', fontdict=None, loc='center')\n",
        "\n",
        "plt.subplots_adjust(wspace=0.5)\n",
        "plt.show()"
      ],
      "metadata": {
        "id": "rH51WratmZD4",
        "colab": {
          "base_uri": "https://localhost:8080/",
          "height": 267
        },
        "outputId": "47d5b1a2-9fe5-4bef-b825-427d61e0a451"
      },
      "execution_count": 66,
      "outputs": [
        {
          "output_type": "display_data",
          "data": {
            "text/plain": [
              "<Figure size 1584x1152 with 3 Axes>"
            ],
            "image/png": "[encoded data removed]"
          },
          "metadata": {}
        }
      ]
    },
    {
      "cell_type": "markdown",
      "source": [
        "> **Insight** \n",
        "* Only **6 of the 35 students** who experienced **depression issues required treatment**.\n",
        "* **3 (8.82%) out of 34 students** with **anxiety issues required treatment**.\n",
        "* Among all students who experienced **panic attacks issues**, only **4 students wanted to seek specialists for treatment**.\n",
        "\n",
        "> **Question**\n",
        "* What about students who have all three kinds of mental health issues? Do they need treatment?"
      ],
      "metadata": {
        "id": "ArNAVZESo0pH"
      }
    },
    {
      "cell_type": "code",
      "source": [
        "#Creating a dataframe of students who have Depression, Anxiety, and Panic Attack\n",
        "DAP = df[(df[\"Depression\"]==True) & (df[\"Anxiety\"]==True) & (df[\"Panic Attack\"]==True)].reset_index(drop=True)\n",
        "DAP"
      ],
      "metadata": {
        "id": "GS0suC8i1zmk",
        "colab": {
          "base_uri": "https://localhost:8080/",
          "height": 363
        },
        "outputId": "19d7c273-7be3-459e-ace2-2ffc73029bc0"
      },
      "execution_count": 67,
      "outputs": [
        {
          "output_type": "execute_result",
          "data": {
            "text/plain": [
              "   Gender  Age                   Course Year Study         CGPA  Marital  \\\n",
              "0    Male   19                       it     Year 1  3.00 - 3.49    False   \n",
              "1  Female   24  engineering mathematics     Year 4  3.00 - 3.49     True   \n",
              "2  Female   18           marine science     Year 2  3.50 - 4.00     True   \n",
              "3  Female   23         computer science     Year 3  3.50 - 4.00    False   \n",
              "4  Female   24                       it     Year 3  3.50 - 4.00     True   \n",
              "5  Female   19                       it     Year 1  3.00 - 3.49    False   \n",
              "6  Female   19                       it     Year 1  2.50 - 2.99    False   \n",
              "7  Female   20                      koe     Year 3  3.00 - 3.49     True   \n",
              "8  Female   24            communication     Year 2  3.50 - 4.00     True   \n",
              "9  Female   18               psychology     Year 1  3.50 - 4.00    False   \n",
              "\n",
              "   Depression  Anxiety  Panic Attack  Treatment  \n",
              "0        True     True          True      False  \n",
              "1        True     True          True      False  \n",
              "2        True     True          True      False  \n",
              "3        True     True          True      False  \n",
              "4        True     True          True       True  \n",
              "5        True     True          True      False  \n",
              "6        True     True          True      False  \n",
              "7        True     True          True      False  \n",
              "8        True     True          True      False  \n",
              "9        True     True          True      False  "
            ],
            "text/html": [
              "\n",
              "  <div id=\"df-8face46d-afd8-4df6-8e2e-271a19c3d737\">\n",
              "    <div class=\"colab-df-container\">\n",
              "      <div>\n",
              "<style scoped>\n",
              "    .dataframe tbody tr th:only-of-type {\n",
              "        vertical-align: middle;\n",
              "    }\n",
              "\n",
              "    .dataframe tbody tr th {\n",
              "        vertical-align: top;\n",
              "    }\n",
              "\n",
              "    .dataframe thead th {\n",
              "        text-align: right;\n",
              "    }\n",
              "</style>\n",
              "<table border=\"1\" class=\"dataframe\">\n",
              "  <thead>\n",
              "    <tr style=\"text-align: right;\">\n",
              "      <th></th>\n",
              "      <th>Gender</th>\n",
              "      <th>Age</th>\n",
              "      <th>Course</th>\n",
              "      <th>Year Study</th>\n",
              "      <th>CGPA</th>\n",
              "      <th>Marital</th>\n",
              "      <th>Depression</th>\n",
              "      <th>Anxiety</th>\n",
              "      <th>Panic Attack</th>\n",
              "      <th>Treatment</th>\n",
              "    </tr>\n",
              "  </thead>\n",
              "  <tbody>\n",
              "    <tr>\n",
              "      <th>0</th>\n",
              "      <td>Male</td>\n",
              "      <td>19</td>\n",
              "      <td>it</td>\n",
              "      <td>Year 1</td>\n",
              "      <td>3.00 - 3.49</td>\n",
              "      <td>False</td>\n",
              "      <td>True</td>\n",
              "      <td>True</td>\n",
              "      <td>True</td>\n",
              "      <td>False</td>\n",
              "    </tr>\n",
              "    <tr>\n",
              "      <th>1</th>\n",
              "      <td>Female</td>\n",
              "      <td>24</td>\n",
              "      <td>engineering mathematics</td>\n",
              "      <td>Year 4</td>\n",
              "      <td>3.00 - 3.49</td>\n",
              "      <td>True</td>\n",
              "      <td>True</td>\n",
              "      <td>True</td>\n",
              "      <td>True</td>\n",
              "      <td>False</td>\n",
              "    </tr>\n",
              "    <tr>\n",
              "      <th>2</th>\n",
              "      <td>Female</td>\n",
              "      <td>18</td>\n",
              "      <td>marine science</td>\n",
              "      <td>Year 2</td>\n",
              "      <td>3.50 - 4.00</td>\n",
              "      <td>True</td>\n",
              "      <td>True</td>\n",
              "      <td>True</td>\n",
              "      <td>True</td>\n",
              "      <td>False</td>\n",
              "    </tr>\n",
              "    <tr>\n",
              "      <th>3</th>\n",
              "      <td>Female</td>\n",
              "      <td>23</td>\n",
              "      <td>computer science</td>\n",
              "      <td>Year 3</td>\n",
              "      <td>3.50 - 4.00</td>\n",
              "      <td>False</td>\n",
              "      <td>True</td>\n",
              "      <td>True</td>\n",
              "      <td>True</td>\n",
              "      <td>False</td>\n",
              "    </tr>\n",
              "    <tr>\n",
              "      <th>4</th>\n",
              "      <td>Female</td>\n",
              "      <td>24</td>\n",
              "      <td>it</td>\n",
              "      <td>Year 3</td>\n",
              "      <td>3.50 - 4.00</td>\n",
              "      <td>True</td>\n",
              "      <td>True</td>\n",
              "      <td>True</td>\n",
              "      <td>True</td>\n",
              "      <td>True</td>\n",
              "    </tr>\n",
              "    <tr>\n",
              "      <th>5</th>\n",
              "      <td>Female</td>\n",
              "      <td>19</td>\n",
              "      <td>it</td>\n",
              "      <td>Year 1</td>\n",
              "      <td>3.00 - 3.49</td>\n",
              "      <td>False</td>\n",
              "      <td>True</td>\n",
              "      <td>True</td>\n",
              "      <td>True</td>\n",
              "      <td>False</td>\n",
              "    </tr>\n",
              "    <tr>\n",
              "      <th>6</th>\n",
              "      <td>Female</td>\n",
              "      <td>19</td>\n",
              "      <td>it</td>\n",
              "      <td>Year 1</td>\n",
              "      <td>2.50 - 2.99</td>\n",
              "      <td>False</td>\n",
              "      <td>True</td>\n",
              "      <td>True</td>\n",
              "      <td>True</td>\n",
              "      <td>False</td>\n",
              "    </tr>\n",
              "    <tr>\n",
              "      <th>7</th>\n",
              "      <td>Female</td>\n",
              "      <td>20</td>\n",
              "      <td>koe</td>\n",
              "      <td>Year 3</td>\n",
              "      <td>3.00 - 3.49</td>\n",
              "      <td>True</td>\n",
              "      <td>True</td>\n",
              "      <td>True</td>\n",
              "      <td>True</td>\n",
              "      <td>False</td>\n",
              "    </tr>\n",
              "    <tr>\n",
              "      <th>8</th>\n",
              "      <td>Female</td>\n",
              "      <td>24</td>\n",
              "      <td>communication</td>\n",
              "      <td>Year 2</td>\n",
              "      <td>3.50 - 4.00</td>\n",
              "      <td>True</td>\n",
              "      <td>True</td>\n",
              "      <td>True</td>\n",
              "      <td>True</td>\n",
              "      <td>False</td>\n",
              "    </tr>\n",
              "    <tr>\n",
              "      <th>9</th>\n",
              "      <td>Female</td>\n",
              "      <td>18</td>\n",
              "      <td>psychology</td>\n",
              "      <td>Year 1</td>\n",
              "      <td>3.50 - 4.00</td>\n",
              "      <td>False</td>\n",
              "      <td>True</td>\n",
              "      <td>True</td>\n",
              "      <td>True</td>\n",
              "      <td>False</td>\n",
              "    </tr>\n",
              "  </tbody>\n",
              "</table>\n",
              "</div>\n",
              "      <button class=\"colab-df-convert\" onclick=\"convertToInteractive('df-8face46d-afd8-4df6-8e2e-271a19c3d737')\"\n",
              "              title=\"Convert this dataframe to an interactive table.\"\n",
              "              style=\"display:none;\">\n",
              "        \n",
              "  <svg xmlns=\"http://www.w3.org/2000/svg\" height=\"24px\"viewBox=\"0 0 24 24\"\n",
              "       width=\"24px\">\n",
              "    <path d=\"M0 0h24v24H0V0z\" fill=\"none\"/>\n",
              "    <path d=\"M18.56 5.44l.94 2.06.94-2.06 2.06-.94-2.06-.94-.94-2.06-.94 2.06-2.06.94zm-11 1L8.5 8.5l.94-2.06 2.06-.94-2.06-.94L8.5 2.5l-.94 2.06-2.06.94zm10 10l.94 2.06.94-2.06 2.06-.94-2.06-.94-.94-2.06-.94 2.06-2.06.94z\"/><path d=\"M17.41 7.96l-1.37-1.37c-.4-.4-.92-.59-1.43-.59-.52 0-1.04.2-1.43.59L10.3 9.45l-7.72 7.72c-.78.78-.78 2.05 0 2.83L4 21.41c.39.39.9.59 1.41.59.51 0 1.02-.2 1.41-.59l7.78-7.78 2.81-2.81c.8-.78.8-2.07 0-2.86zM5.41 20L4 18.59l7.72-7.72 1.47 1.35L5.41 20z\"/>\n",
              "  </svg>\n",
              "      </button>\n",
              "      \n",
              "  <style>\n",
              "    .colab-df-container {\n",
              "      display:flex;\n",
              "      flex-wrap:wrap;\n",
              "      gap: 12px;\n",
              "    }\n",
              "\n",
              "    .colab-df-convert {\n",
              "      background-color: #E8F0FE;\n",
              "      border: none;\n",
              "      border-radius: 50%;\n",
              "      cursor: pointer;\n",
              "      display: none;\n",
              "      fill: #1967D2;\n",
              "      height: 32px;\n",
              "      padding: 0 0 0 0;\n",
              "      width: 32px;\n",
              "    }\n",
              "\n",
              "    .colab-df-convert:hover {\n",
              "      background-color: #E2EBFA;\n",
              "      box-shadow: 0px 1px 2px rgba(60, 64, 67, 0.3), 0px 1px 3px 1px rgba(60, 64, 67, 0.15);\n",
              "      fill: #174EA6;\n",
              "    }\n",
              "\n",
              "    [theme=dark] .colab-df-convert {\n",
              "      background-color: #3B4455;\n",
              "      fill: #D2E3FC;\n",
              "    }\n",
              "\n",
              "    [theme=dark] .colab-df-convert:hover {\n",
              "      background-color: #434B5C;\n",
              "      box-shadow: 0px 1px 3px 1px rgba(0, 0, 0, 0.15);\n",
              "      filter: drop-shadow(0px 1px 2px rgba(0, 0, 0, 0.3));\n",
              "      fill: #FFFFFF;\n",
              "    }\n",
              "  </style>\n",
              "\n",
              "      <script>\n",
              "        const buttonEl =\n",
              "          document.querySelector('#df-8face46d-afd8-4df6-8e2e-271a19c3d737 button.colab-df-convert');\n",
              "        buttonEl.style.display =\n",
              "          google.colab.kernel.accessAllowed ? 'block' : 'none';\n",
              "\n",
              "        async function convertToInteractive(key) {\n",
              "          const element = document.querySelector('#df-8face46d-afd8-4df6-8e2e-271a19c3d737');\n",
              "          const dataTable =\n",
              "            await google.colab.kernel.invokeFunction('convertToInteractive',\n",
              "                                                     [key], {});\n",
              "          if (!dataTable) return;\n",
              "\n",
              "          const docLinkHtml = 'Like what you see? Visit the ' +\n",
              "            '<a target=\"_blank\" href=https://colab.research.google.com/notebooks/data_table.ipynb>data table notebook</a>'\n",
              "            + ' to learn more about interactive tables.';\n",
              "          element.innerHTML = '';\n",
              "          dataTable['output_type'] = 'display_data';\n",
              "          await google.colab.output.renderOutput(dataTable, element);\n",
              "          const docLink = document.createElement('div');\n",
              "          docLink.innerHTML = docLinkHtml;\n",
              "          element.appendChild(docLink);\n",
              "        }\n",
              "      </script>\n",
              "    </div>\n",
              "  </div>\n",
              "  "
            ]
          },
          "metadata": {},
          "execution_count": 67
        }
      ]
    },
    {
      "cell_type": "markdown",
      "source": [
        "> **Insight**\n",
        "* **1 in 10 students** who have **depression, anxiety and panic attacks require specialist for treatment**."
      ],
      "metadata": {
        "id": "H4fDuuVoEKHP"
      }
    },
    {
      "cell_type": "markdown",
      "source": [
        "## **Conclusion**\n",
        "> **Mental health does not affect students' GPA** because many students who experience one or more of these mental health problems or all three at once still have a **high GPA (3.50-4.00)**.\n",
        "* Students **without mental health issues** mostly had a **CGPA of 3.50-4.00**.\n",
        "* Students with **anxiety or panic attack issues** mostly have a **GPA of 3.50 - 4.00**, while students with **depression issues** mostly have a **GPA of 3.00 - 3.49**.\n",
        "* Students who have issues with **depression, anxiety and panic attacks** majority have the highest GPA of **3.50 - 4.00**\n",
        "\n",
        "> **Many students did not need treatment** despite having one or more, or even three, mental health issues.\n",
        "*  Only **6 of the 35 students** who experienced **depression issues required treatment**.\n",
        "* **3 (8.82%) out of 34 students** with **anxiety issues required treatment**.\n",
        "* Among all students who experienced **panic attacks issues**, only **4 students wanted to seek specialists for treatment**.\n",
        "* **1 in 10 students** who have **depression, anxiety and panic attacks require specialist for treatment**."
      ],
      "metadata": {
        "id": "M7EF_xLhHnpe"
      }
    }
  ]
}